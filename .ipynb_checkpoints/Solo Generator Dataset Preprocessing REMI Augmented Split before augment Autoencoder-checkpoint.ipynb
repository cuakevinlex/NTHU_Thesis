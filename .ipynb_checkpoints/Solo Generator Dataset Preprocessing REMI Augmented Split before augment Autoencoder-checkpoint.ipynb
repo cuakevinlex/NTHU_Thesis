{
 "cells": [
  {
   "cell_type": "code",
   "execution_count": 9,
   "id": "ee2ca29f",
   "metadata": {},
   "outputs": [],
   "source": [
    "import miditoolkit\n",
    "import remi_utils as utils\n",
    "from collections import Counter\n",
    "import pickle\n",
    "import glob\n",
    "import json\n",
    "from sklearn.model_selection import train_test_split\n",
    "import pandas as pd\n",
    "import numpy as np"
   ]
  },
  {
   "cell_type": "code",
   "execution_count": 10,
   "id": "517f8832",
   "metadata": {
    "scrolled": true
   },
   "outputs": [],
   "source": [
    "# create pickle file based on dataset\n",
    "\n",
    "def extract_events(input_path, chord=False):\n",
    "    note_items, tempo_items = utils.read_items(input_path)\n",
    "    note_items = utils.quantize_items(note_items)\n",
    "    max_time = note_items[-1].end\n",
    "    if chord:\n",
    "        chord_items = utils.extract_chords(note_items)\n",
    "        items = chord_items + tempo_items + note_items\n",
    "    else:\n",
    "        items = tempo_items + note_items\n",
    "    groups = utils.group_items(items, max_time)\n",
    "    events = utils.item2event(groups)\n",
    "    return events"
   ]
  },
  {
   "cell_type": "code",
   "execution_count": 3,
   "id": "94a9ddb2",
   "metadata": {},
   "outputs": [
    {
     "name": "stderr",
     "output_type": "stream",
     "text": [
      "ERROR:root:Internal Python error in the inspect module.\n",
      "Below is the traceback from this internal error.\n",
      "\n"
     ]
    },
    {
     "name": "stdout",
     "output_type": "stream",
     "text": [
      "Traceback (most recent call last):\n",
      "  File \"/home/cuakevinlex/miniconda3/lib/python3.8/site-packages/IPython/core/interactiveshell.py\", line 3441, in run_code\n",
      "    exec(code_obj, self.user_global_ns, self.user_ns)\n",
      "  File \"<ipython-input-3-a565e05c79d6>\", line 4, in <module>\n",
      "    events = extract_events(midi_file) # If you're analyzing chords, use `extract_events(midi_file, chord=True)`\n",
      "  File \"<ipython-input-2-c023fadc75d7>\", line 13, in extract_events\n",
      "    events = utils.item2event(groups)\n",
      "  File \"/home/cuakevinlex/Downloads/Kevin Thesis/remi_utils.py\", line 145, in item2event\n",
      "    index = np.argmin(abs(flags-item.start))\n",
      "  File \"<__array_function__ internals>\", line 5, in argmin\n",
      "  File \"/home/cuakevinlex/miniconda3/lib/python3.8/site-packages/numpy/core/fromnumeric.py\", line 1195, in argmin\n",
      "    @array_function_dispatch(_argmin_dispatcher)\n",
      "KeyboardInterrupt\n",
      "\n",
      "During handling of the above exception, another exception occurred:\n",
      "\n",
      "Traceback (most recent call last):\n",
      "  File \"/home/cuakevinlex/miniconda3/lib/python3.8/site-packages/IPython/core/interactiveshell.py\", line 2061, in showtraceback\n",
      "    stb = value._render_traceback_()\n",
      "AttributeError: 'KeyboardInterrupt' object has no attribute '_render_traceback_'\n",
      "\n",
      "During handling of the above exception, another exception occurred:\n",
      "\n",
      "Traceback (most recent call last):\n",
      "  File \"/home/cuakevinlex/miniconda3/lib/python3.8/site-packages/IPython/core/ultratb.py\", line 1101, in get_records\n",
      "    return _fixed_getinnerframes(etb, number_of_lines_of_context, tb_offset)\n",
      "  File \"/home/cuakevinlex/miniconda3/lib/python3.8/site-packages/IPython/core/ultratb.py\", line 248, in wrapped\n",
      "    return f(*args, **kwargs)\n",
      "  File \"/home/cuakevinlex/miniconda3/lib/python3.8/site-packages/IPython/core/ultratb.py\", line 281, in _fixed_getinnerframes\n",
      "    records = fix_frame_records_filenames(inspect.getinnerframes(etb, context))\n",
      "  File \"/home/cuakevinlex/miniconda3/lib/python3.8/inspect.py\", line 1503, in getinnerframes\n",
      "    frameinfo = (tb.tb_frame,) + getframeinfo(tb, context)\n",
      "  File \"/home/cuakevinlex/miniconda3/lib/python3.8/inspect.py\", line 1461, in getframeinfo\n",
      "    filename = getsourcefile(frame) or getfile(frame)\n",
      "  File \"/home/cuakevinlex/miniconda3/lib/python3.8/inspect.py\", line 708, in getsourcefile\n",
      "    if getattr(getmodule(object, filename), '__loader__', None) is not None:\n",
      "  File \"/home/cuakevinlex/miniconda3/lib/python3.8/inspect.py\", line 754, in getmodule\n",
      "    os.path.realpath(f)] = module.__name__\n",
      "  File \"/home/cuakevinlex/miniconda3/lib/python3.8/posixpath.py\", line 392, in realpath\n",
      "    return abspath(path)\n",
      "  File \"/home/cuakevinlex/miniconda3/lib/python3.8/posixpath.py\", line 381, in abspath\n",
      "    return normpath(path)\n",
      "  File \"/home/cuakevinlex/miniconda3/lib/python3.8/posixpath.py\", line 336, in normpath\n",
      "    path = os.fspath(path)\n",
      "KeyboardInterrupt\n"
     ]
    },
    {
     "ename": "TypeError",
     "evalue": "object of type 'NoneType' has no len()",
     "output_type": "error",
     "traceback": [
      "\u001b[0;31m---------------------------------------------------------------------------\u001b[0m",
      "\u001b[0;31mKeyboardInterrupt\u001b[0m                         Traceback (most recent call last)",
      "    \u001b[0;31m[... skipping hidden 1 frame]\u001b[0m\n",
      "\u001b[0;32m<ipython-input-3-a565e05c79d6>\u001b[0m in \u001b[0;36m<module>\u001b[0;34m\u001b[0m\n\u001b[1;32m      3\u001b[0m     \u001b[0;31m#print(midi_file)\u001b[0m\u001b[0;34m\u001b[0m\u001b[0;34m\u001b[0m\u001b[0;34m\u001b[0m\u001b[0m\n\u001b[0;32m----> 4\u001b[0;31m     \u001b[0mevents\u001b[0m \u001b[0;34m=\u001b[0m \u001b[0mextract_events\u001b[0m\u001b[0;34m(\u001b[0m\u001b[0mmidi_file\u001b[0m\u001b[0;34m)\u001b[0m \u001b[0;31m# If you're analyzing chords, use `extract_events(midi_file, chord=True)`\u001b[0m\u001b[0;34m\u001b[0m\u001b[0;34m\u001b[0m\u001b[0m\n\u001b[0m\u001b[1;32m      5\u001b[0m     \u001b[0;32mfor\u001b[0m \u001b[0mevent\u001b[0m \u001b[0;32min\u001b[0m \u001b[0mevents\u001b[0m\u001b[0;34m:\u001b[0m\u001b[0;34m\u001b[0m\u001b[0;34m\u001b[0m\u001b[0m\n",
      "\u001b[0;32m<ipython-input-2-c023fadc75d7>\u001b[0m in \u001b[0;36mextract_events\u001b[0;34m(input_path, chord)\u001b[0m\n\u001b[1;32m     12\u001b[0m     \u001b[0mgroups\u001b[0m \u001b[0;34m=\u001b[0m \u001b[0mutils\u001b[0m\u001b[0;34m.\u001b[0m\u001b[0mgroup_items\u001b[0m\u001b[0;34m(\u001b[0m\u001b[0mitems\u001b[0m\u001b[0;34m,\u001b[0m \u001b[0mmax_time\u001b[0m\u001b[0;34m)\u001b[0m\u001b[0;34m\u001b[0m\u001b[0;34m\u001b[0m\u001b[0m\n\u001b[0;32m---> 13\u001b[0;31m     \u001b[0mevents\u001b[0m \u001b[0;34m=\u001b[0m \u001b[0mutils\u001b[0m\u001b[0;34m.\u001b[0m\u001b[0mitem2event\u001b[0m\u001b[0;34m(\u001b[0m\u001b[0mgroups\u001b[0m\u001b[0;34m)\u001b[0m\u001b[0;34m\u001b[0m\u001b[0;34m\u001b[0m\u001b[0m\n\u001b[0m\u001b[1;32m     14\u001b[0m     \u001b[0;32mreturn\u001b[0m \u001b[0mevents\u001b[0m\u001b[0;34m\u001b[0m\u001b[0;34m\u001b[0m\u001b[0m\n",
      "\u001b[0;32m~/Downloads/Kevin Thesis/remi_utils.py\u001b[0m in \u001b[0;36mitem2event\u001b[0;34m(groups)\u001b[0m\n\u001b[1;32m    144\u001b[0m             \u001b[0mflags\u001b[0m \u001b[0;34m=\u001b[0m \u001b[0mnp\u001b[0m\u001b[0;34m.\u001b[0m\u001b[0mlinspace\u001b[0m\u001b[0;34m(\u001b[0m\u001b[0mbar_st\u001b[0m\u001b[0;34m,\u001b[0m \u001b[0mbar_et\u001b[0m\u001b[0;34m,\u001b[0m \u001b[0mDEFAULT_FRACTION\u001b[0m\u001b[0;34m,\u001b[0m \u001b[0mendpoint\u001b[0m\u001b[0;34m=\u001b[0m\u001b[0;32mFalse\u001b[0m\u001b[0;34m)\u001b[0m\u001b[0;34m\u001b[0m\u001b[0;34m\u001b[0m\u001b[0m\n\u001b[0;32m--> 145\u001b[0;31m             \u001b[0mindex\u001b[0m \u001b[0;34m=\u001b[0m \u001b[0mnp\u001b[0m\u001b[0;34m.\u001b[0m\u001b[0margmin\u001b[0m\u001b[0;34m(\u001b[0m\u001b[0mabs\u001b[0m\u001b[0;34m(\u001b[0m\u001b[0mflags\u001b[0m\u001b[0;34m-\u001b[0m\u001b[0mitem\u001b[0m\u001b[0;34m.\u001b[0m\u001b[0mstart\u001b[0m\u001b[0;34m)\u001b[0m\u001b[0;34m)\u001b[0m\u001b[0;34m\u001b[0m\u001b[0;34m\u001b[0m\u001b[0m\n\u001b[0m\u001b[1;32m    146\u001b[0m             events.append(Event(\n",
      "\u001b[0;32m<__array_function__ internals>\u001b[0m in \u001b[0;36margmin\u001b[0;34m(*args, **kwargs)\u001b[0m\n",
      "\u001b[0;32m~/miniconda3/lib/python3.8/site-packages/numpy/core/fromnumeric.py\u001b[0m in \u001b[0;36margmin\u001b[0;34m(a, axis, out)\u001b[0m\n\u001b[1;32m   1194\u001b[0m \u001b[0;34m\u001b[0m\u001b[0m\n\u001b[0;32m-> 1195\u001b[0;31m \u001b[0;34m@\u001b[0m\u001b[0marray_function_dispatch\u001b[0m\u001b[0;34m(\u001b[0m\u001b[0m_argmin_dispatcher\u001b[0m\u001b[0;34m)\u001b[0m\u001b[0;34m\u001b[0m\u001b[0;34m\u001b[0m\u001b[0m\n\u001b[0m\u001b[1;32m   1196\u001b[0m \u001b[0;32mdef\u001b[0m \u001b[0margmin\u001b[0m\u001b[0;34m(\u001b[0m\u001b[0ma\u001b[0m\u001b[0;34m,\u001b[0m \u001b[0maxis\u001b[0m\u001b[0;34m=\u001b[0m\u001b[0;32mNone\u001b[0m\u001b[0;34m,\u001b[0m \u001b[0mout\u001b[0m\u001b[0;34m=\u001b[0m\u001b[0;32mNone\u001b[0m\u001b[0;34m)\u001b[0m\u001b[0;34m:\u001b[0m\u001b[0;34m\u001b[0m\u001b[0;34m\u001b[0m\u001b[0m\n",
      "\u001b[0;31mKeyboardInterrupt\u001b[0m: ",
      "\nDuring handling of the above exception, another exception occurred:\n",
      "\u001b[0;31mAttributeError\u001b[0m                            Traceback (most recent call last)",
      "\u001b[0;32m~/miniconda3/lib/python3.8/site-packages/IPython/core/interactiveshell.py\u001b[0m in \u001b[0;36mshowtraceback\u001b[0;34m(self, exc_tuple, filename, tb_offset, exception_only, running_compiled_code)\u001b[0m\n\u001b[1;32m   2060\u001b[0m                         \u001b[0;31m# in the engines. This should return a list of strings.\u001b[0m\u001b[0;34m\u001b[0m\u001b[0;34m\u001b[0m\u001b[0;34m\u001b[0m\u001b[0m\n\u001b[0;32m-> 2061\u001b[0;31m                         \u001b[0mstb\u001b[0m \u001b[0;34m=\u001b[0m \u001b[0mvalue\u001b[0m\u001b[0;34m.\u001b[0m\u001b[0m_render_traceback_\u001b[0m\u001b[0;34m(\u001b[0m\u001b[0;34m)\u001b[0m\u001b[0;34m\u001b[0m\u001b[0;34m\u001b[0m\u001b[0m\n\u001b[0m\u001b[1;32m   2062\u001b[0m                     \u001b[0;32mexcept\u001b[0m \u001b[0mException\u001b[0m\u001b[0;34m:\u001b[0m\u001b[0;34m\u001b[0m\u001b[0;34m\u001b[0m\u001b[0m\n",
      "\u001b[0;31mAttributeError\u001b[0m: 'KeyboardInterrupt' object has no attribute '_render_traceback_'",
      "\nDuring handling of the above exception, another exception occurred:\n",
      "\u001b[0;31mTypeError\u001b[0m                                 Traceback (most recent call last)",
      "    \u001b[0;31m[... skipping hidden 1 frame]\u001b[0m\n",
      "\u001b[0;32m~/miniconda3/lib/python3.8/site-packages/IPython/core/interactiveshell.py\u001b[0m in \u001b[0;36mshowtraceback\u001b[0;34m(self, exc_tuple, filename, tb_offset, exception_only, running_compiled_code)\u001b[0m\n\u001b[1;32m   2061\u001b[0m                         \u001b[0mstb\u001b[0m \u001b[0;34m=\u001b[0m \u001b[0mvalue\u001b[0m\u001b[0;34m.\u001b[0m\u001b[0m_render_traceback_\u001b[0m\u001b[0;34m(\u001b[0m\u001b[0;34m)\u001b[0m\u001b[0;34m\u001b[0m\u001b[0;34m\u001b[0m\u001b[0m\n\u001b[1;32m   2062\u001b[0m                     \u001b[0;32mexcept\u001b[0m \u001b[0mException\u001b[0m\u001b[0;34m:\u001b[0m\u001b[0;34m\u001b[0m\u001b[0;34m\u001b[0m\u001b[0m\n\u001b[0;32m-> 2063\u001b[0;31m                         stb = self.InteractiveTB.structured_traceback(etype,\n\u001b[0m\u001b[1;32m   2064\u001b[0m                                             value, tb, tb_offset=tb_offset)\n\u001b[1;32m   2065\u001b[0m \u001b[0;34m\u001b[0m\u001b[0m\n",
      "\u001b[0;32m~/miniconda3/lib/python3.8/site-packages/IPython/core/ultratb.py\u001b[0m in \u001b[0;36mstructured_traceback\u001b[0;34m(self, etype, value, tb, tb_offset, number_of_lines_of_context)\u001b[0m\n\u001b[1;32m   1365\u001b[0m         \u001b[0;32melse\u001b[0m\u001b[0;34m:\u001b[0m\u001b[0;34m\u001b[0m\u001b[0;34m\u001b[0m\u001b[0m\n\u001b[1;32m   1366\u001b[0m             \u001b[0mself\u001b[0m\u001b[0;34m.\u001b[0m\u001b[0mtb\u001b[0m \u001b[0;34m=\u001b[0m \u001b[0mtb\u001b[0m\u001b[0;34m\u001b[0m\u001b[0;34m\u001b[0m\u001b[0m\n\u001b[0;32m-> 1367\u001b[0;31m         return FormattedTB.structured_traceback(\n\u001b[0m\u001b[1;32m   1368\u001b[0m             self, etype, value, tb, tb_offset, number_of_lines_of_context)\n\u001b[1;32m   1369\u001b[0m \u001b[0;34m\u001b[0m\u001b[0m\n",
      "\u001b[0;32m~/miniconda3/lib/python3.8/site-packages/IPython/core/ultratb.py\u001b[0m in \u001b[0;36mstructured_traceback\u001b[0;34m(self, etype, value, tb, tb_offset, number_of_lines_of_context)\u001b[0m\n\u001b[1;32m   1265\u001b[0m         \u001b[0;32mif\u001b[0m \u001b[0mmode\u001b[0m \u001b[0;32min\u001b[0m \u001b[0mself\u001b[0m\u001b[0;34m.\u001b[0m\u001b[0mverbose_modes\u001b[0m\u001b[0;34m:\u001b[0m\u001b[0;34m\u001b[0m\u001b[0;34m\u001b[0m\u001b[0m\n\u001b[1;32m   1266\u001b[0m             \u001b[0;31m# Verbose modes need a full traceback\u001b[0m\u001b[0;34m\u001b[0m\u001b[0;34m\u001b[0m\u001b[0;34m\u001b[0m\u001b[0m\n\u001b[0;32m-> 1267\u001b[0;31m             return VerboseTB.structured_traceback(\n\u001b[0m\u001b[1;32m   1268\u001b[0m                 \u001b[0mself\u001b[0m\u001b[0;34m,\u001b[0m \u001b[0metype\u001b[0m\u001b[0;34m,\u001b[0m \u001b[0mvalue\u001b[0m\u001b[0;34m,\u001b[0m \u001b[0mtb\u001b[0m\u001b[0;34m,\u001b[0m \u001b[0mtb_offset\u001b[0m\u001b[0;34m,\u001b[0m \u001b[0mnumber_of_lines_of_context\u001b[0m\u001b[0;34m\u001b[0m\u001b[0;34m\u001b[0m\u001b[0m\n\u001b[1;32m   1269\u001b[0m             )\n",
      "\u001b[0;32m~/miniconda3/lib/python3.8/site-packages/IPython/core/ultratb.py\u001b[0m in \u001b[0;36mstructured_traceback\u001b[0;34m(self, etype, evalue, etb, tb_offset, number_of_lines_of_context)\u001b[0m\n\u001b[1;32m   1122\u001b[0m         \u001b[0;34m\"\"\"Return a nice text document describing the traceback.\"\"\"\u001b[0m\u001b[0;34m\u001b[0m\u001b[0;34m\u001b[0m\u001b[0m\n\u001b[1;32m   1123\u001b[0m \u001b[0;34m\u001b[0m\u001b[0m\n\u001b[0;32m-> 1124\u001b[0;31m         formatted_exception = self.format_exception_as_a_whole(etype, evalue, etb, number_of_lines_of_context,\n\u001b[0m\u001b[1;32m   1125\u001b[0m                                                                tb_offset)\n\u001b[1;32m   1126\u001b[0m \u001b[0;34m\u001b[0m\u001b[0m\n",
      "\u001b[0;32m~/miniconda3/lib/python3.8/site-packages/IPython/core/ultratb.py\u001b[0m in \u001b[0;36mformat_exception_as_a_whole\u001b[0;34m(self, etype, evalue, etb, number_of_lines_of_context, tb_offset)\u001b[0m\n\u001b[1;32m   1080\u001b[0m \u001b[0;34m\u001b[0m\u001b[0m\n\u001b[1;32m   1081\u001b[0m \u001b[0;34m\u001b[0m\u001b[0m\n\u001b[0;32m-> 1082\u001b[0;31m         \u001b[0mlast_unique\u001b[0m\u001b[0;34m,\u001b[0m \u001b[0mrecursion_repeat\u001b[0m \u001b[0;34m=\u001b[0m \u001b[0mfind_recursion\u001b[0m\u001b[0;34m(\u001b[0m\u001b[0morig_etype\u001b[0m\u001b[0;34m,\u001b[0m \u001b[0mevalue\u001b[0m\u001b[0;34m,\u001b[0m \u001b[0mrecords\u001b[0m\u001b[0;34m)\u001b[0m\u001b[0;34m\u001b[0m\u001b[0;34m\u001b[0m\u001b[0m\n\u001b[0m\u001b[1;32m   1083\u001b[0m \u001b[0;34m\u001b[0m\u001b[0m\n\u001b[1;32m   1084\u001b[0m         \u001b[0mframes\u001b[0m \u001b[0;34m=\u001b[0m \u001b[0mself\u001b[0m\u001b[0;34m.\u001b[0m\u001b[0mformat_records\u001b[0m\u001b[0;34m(\u001b[0m\u001b[0mrecords\u001b[0m\u001b[0;34m,\u001b[0m \u001b[0mlast_unique\u001b[0m\u001b[0;34m,\u001b[0m \u001b[0mrecursion_repeat\u001b[0m\u001b[0;34m)\u001b[0m\u001b[0;34m\u001b[0m\u001b[0;34m\u001b[0m\u001b[0m\n",
      "\u001b[0;32m~/miniconda3/lib/python3.8/site-packages/IPython/core/ultratb.py\u001b[0m in \u001b[0;36mfind_recursion\u001b[0;34m(etype, value, records)\u001b[0m\n\u001b[1;32m    380\u001b[0m     \u001b[0;31m# first frame (from in to out) that looks different.\u001b[0m\u001b[0;34m\u001b[0m\u001b[0;34m\u001b[0m\u001b[0;34m\u001b[0m\u001b[0m\n\u001b[1;32m    381\u001b[0m     \u001b[0;32mif\u001b[0m \u001b[0;32mnot\u001b[0m \u001b[0mis_recursion_error\u001b[0m\u001b[0;34m(\u001b[0m\u001b[0metype\u001b[0m\u001b[0;34m,\u001b[0m \u001b[0mvalue\u001b[0m\u001b[0;34m,\u001b[0m \u001b[0mrecords\u001b[0m\u001b[0;34m)\u001b[0m\u001b[0;34m:\u001b[0m\u001b[0;34m\u001b[0m\u001b[0;34m\u001b[0m\u001b[0m\n\u001b[0;32m--> 382\u001b[0;31m         \u001b[0;32mreturn\u001b[0m \u001b[0mlen\u001b[0m\u001b[0;34m(\u001b[0m\u001b[0mrecords\u001b[0m\u001b[0;34m)\u001b[0m\u001b[0;34m,\u001b[0m \u001b[0;36m0\u001b[0m\u001b[0;34m\u001b[0m\u001b[0;34m\u001b[0m\u001b[0m\n\u001b[0m\u001b[1;32m    383\u001b[0m \u001b[0;34m\u001b[0m\u001b[0m\n\u001b[1;32m    384\u001b[0m     \u001b[0;31m# Select filename, lineno, func_name to track frames with\u001b[0m\u001b[0;34m\u001b[0m\u001b[0;34m\u001b[0m\u001b[0;34m\u001b[0m\u001b[0m\n",
      "\u001b[0;31mTypeError\u001b[0m: object of type 'NoneType' has no len()"
     ]
    }
   ],
   "source": [
    "all_elements= []\n",
    "for midi_file in glob.glob(\"./data_augmented/melody/*/*.mid*\", recursive=True):\n",
    "    #print(midi_file)\n",
    "    events = extract_events(midi_file) # If you're analyzing chords, use `extract_events(midi_file, chord=True)`\n",
    "    for event in events:\n",
    "        element = '{}_{}'.format(event.name, event.value)\n",
    "        all_elements.append(element)\n",
    "\n",
    "for midi_file in glob.glob(\"./data_augmented/piano/*/*.mid*\", recursive=True):\n",
    "    #print(midi_file)\n",
    "    try:\n",
    "        events = extract_events(midi_file) # If you're analyzing chords, use `extract_events(midi_file, chord=True)`\n",
    "    except:\n",
    "        print(midi_file)\n",
    "    for event in events:\n",
    "        element = '{}_{}'.format(event.name, event.value)\n",
    "        all_elements.append(element)        \n",
    "\n",
    "counts = Counter(all_elements)\n",
    "event2word = {c: i for i, c in enumerate(counts.keys())}\n",
    "word2event = {i: c for i, c in enumerate(counts.keys())}\n",
    "pickle.dump((event2word, word2event), open('dictionary_augmented.pkl', 'wb'))"
   ]
  },
  {
   "cell_type": "code",
   "execution_count": 4,
   "id": "3b8f5267",
   "metadata": {},
   "outputs": [],
   "source": [
    "event2word, word2event = pickle.load(open('dictionary_augmented.pkl', 'rb'))"
   ]
  },
  {
   "cell_type": "code",
   "execution_count": 17,
   "id": "98f87116",
   "metadata": {},
   "outputs": [],
   "source": [
    "count = 0\n",
    "intros = []\n",
    "outros = []\n",
    "solos = []\n",
    "with open('solos.json') as json_file: \n",
    "    data = json.load(json_file) \n",
    "semitones = [-3,-2,-1,0,1,2,3]\n",
    "for i in range(1,910):\n",
    "    for k in semitones:\n",
    "        filename = str(i).zfill(3)\n",
    "        if filename not in data:\n",
    "            continue\n",
    "        for j in range(len(data[filename])):\n",
    "            count += 1\n",
    "            # extract intro\n",
    "            intro = extract_events(\"./data_augmented/melody/intro/\" + str(i).zfill(3) + \"_solo_\" + str(k) + \"_\" + str(j) + \".mid\")\n",
    "            w_intro = utils.event_to_word(intro, event2word)\n",
    "            intros.append(w_intro)\n",
    "            # extract outro\n",
    "            outro = extract_events(\"./data_augmented/melody/outro/\" + str(i).zfill(3) + \"_solo_\" + str(k) + \"_\" + str(j) + \".mid\")\n",
    "            w_outro = utils.event_to_word(outro, event2word)\n",
    "            outros.append(w_outro)\n",
    "            # extract solo\n",
    "            solo = extract_events(\"./data_augmented/melody/middle/\" + str(i).zfill(3) + \"_solo_\" + str(k) + \"_\" + str(j) + \".mid\")\n",
    "            w_solo = utils.event_to_word(solo, event2word)\n",
    "            solos.append(w_solo)\n",
    "        "
   ]
  },
  {
   "cell_type": "code",
   "execution_count": 8,
   "id": "1ef8b9f4",
   "metadata": {},
   "outputs": [
    {
     "data": {
      "text/plain": [
       "5250"
      ]
     },
     "execution_count": 8,
     "metadata": {},
     "output_type": "execute_result"
    }
   ],
   "source": [
    "len(intros)"
   ]
  },
  {
   "cell_type": "code",
   "execution_count": 18,
   "id": "8a054de2",
   "metadata": {},
   "outputs": [],
   "source": [
    "count = 0\n",
    "intros_piano = []\n",
    "outros_piano = []\n",
    "solos_piano = []\n",
    "with open('solos.json') as json_file: \n",
    "    data = json.load(json_file) \n",
    "for i in range(1,910):\n",
    "    for k in semitones:\n",
    "        filename = str(i).zfill(3)\n",
    "        if filename not in data:\n",
    "            continue\n",
    "        for j in range(len(data[filename])):\n",
    "            count += 1\n",
    "            # extract intro\n",
    "            intro = extract_events(\"./data_augmented/piano/intro/\" + str(i).zfill(3) + \"_solo_\" + str(k) + \"_\" + str(j) + \".mid\")\n",
    "            w_intro = utils.event_to_word(intro, event2word)\n",
    "            intros_piano.append(w_intro)\n",
    "            # extract outro\n",
    "            outro = extract_events(\"./data_augmented/piano/outro/\" + str(i).zfill(3) + \"_solo_\" + str(k) + \"_\" + str(j) + \".mid\")\n",
    "            w_outro = utils.event_to_word(outro, event2word)\n",
    "            outros_piano.append(w_outro)\n",
    "            # extract solo\n",
    "            solo = extract_events(\"./data_augmented/piano/middle/\" + str(i).zfill(3) + \"_solo_\" + str(k) + \"_\" + str(j) + \".mid\")\n",
    "            w_solo = utils.event_to_word(solo, event2word)\n",
    "            solos_piano.append(w_solo)\n"
   ]
  },
  {
   "cell_type": "code",
   "execution_count": 20,
   "id": "52e52f12",
   "metadata": {},
   "outputs": [],
   "source": [
    "data = [intros, intros_piano, outros, outros_piano, solos, solos_piano]\n",
    "pickle.dump(data, open('./solo_generation_dataset_augmented/solo_generation_dataset.pkl', 'wb'))"
   ]
  },
  {
   "cell_type": "code",
   "execution_count": 13,
   "id": "54250ef3",
   "metadata": {},
   "outputs": [],
   "source": [
    "data = pickle.load(open('./solo_generation_dataset_augmented/solo_generation_dataset.pkl', 'rb'))"
   ]
  },
  {
   "cell_type": "code",
   "execution_count": null,
   "id": "8ca4494b",
   "metadata": {},
   "outputs": [],
   "source": [
    "def find_max_length(series):\n",
    "    max_length=0\n",
    "    for i in range(len(series)):\n",
    "        if max_length < len(series[i]):\n",
    "            max_length = len(series[i])\n",
    "    return max_length\n",
    "\n",
    "def pad_dataset(dataset, word2event):\n",
    "    pad_value = len(word2event)\n",
    "    max_length = 0\n",
    "    for i in range(len(dataset)):\n",
    "        if max_length < find_max_length(dataset[i]):\n",
    "            max_length = find_max_length(dataset[i])\n",
    "    print(max_length)\n",
    "    for i in range(len(dataset)):\n",
    "        for j in range(len(dataset[i])):\n",
    "            while len(dataset[i][j]) < max_length:\n",
    "                dataset[i][j].append(pad_value)\n",
    "    return dataset"
   ]
  },
  {
   "cell_type": "code",
   "execution_count": 268,
   "id": "c572bb26",
   "metadata": {
    "scrolled": false
   },
   "outputs": [
    {
     "name": "stdout",
     "output_type": "stream",
     "text": [
      "1637\n"
     ]
    }
   ],
   "source": [
    "data_padded = pad_dataset(data,word2event)"
   ]
  },
  {
   "cell_type": "code",
   "execution_count": 12,
   "id": "83c2666a",
   "metadata": {},
   "outputs": [
    {
     "ename": "NameError",
     "evalue": "name 'data_padded' is not defined",
     "output_type": "error",
     "traceback": [
      "\u001b[0;31m---------------------------------------------------------------------------\u001b[0m",
      "\u001b[0;31mNameError\u001b[0m                                 Traceback (most recent call last)",
      "\u001b[0;32m<ipython-input-12-a310c568de3b>\u001b[0m in \u001b[0;36m<module>\u001b[0;34m\u001b[0m\n\u001b[0;32m----> 1\u001b[0;31m \u001b[0mpickle\u001b[0m\u001b[0;34m.\u001b[0m\u001b[0mdump\u001b[0m\u001b[0;34m(\u001b[0m\u001b[0mdata_padded\u001b[0m\u001b[0;34m,\u001b[0m \u001b[0mopen\u001b[0m\u001b[0;34m(\u001b[0m\u001b[0;34m'./solo_generation_dataset_augmented/solo_generation_dataset_padded.pkl'\u001b[0m\u001b[0;34m,\u001b[0m \u001b[0;34m'wb'\u001b[0m\u001b[0;34m)\u001b[0m\u001b[0;34m)\u001b[0m\u001b[0;34m\u001b[0m\u001b[0;34m\u001b[0m\u001b[0m\n\u001b[0m\u001b[1;32m      2\u001b[0m \u001b[0mdata_padded\u001b[0m \u001b[0;34m=\u001b[0m \u001b[0mpickle\u001b[0m\u001b[0;34m.\u001b[0m\u001b[0mload\u001b[0m\u001b[0;34m(\u001b[0m\u001b[0mopen\u001b[0m\u001b[0;34m(\u001b[0m\u001b[0;34m'./solo_generation_dataset_augmented/solo_generation_dataset_padded.pkl'\u001b[0m\u001b[0;34m,\u001b[0m \u001b[0;34m'rb'\u001b[0m\u001b[0;34m)\u001b[0m\u001b[0;34m)\u001b[0m\u001b[0;34m\u001b[0m\u001b[0;34m\u001b[0m\u001b[0m\n\u001b[1;32m      3\u001b[0m \u001b[0mdata\u001b[0m \u001b[0;34m=\u001b[0m \u001b[0mdata_padded\u001b[0m\u001b[0;34m\u001b[0m\u001b[0;34m\u001b[0m\u001b[0m\n",
      "\u001b[0;31mNameError\u001b[0m: name 'data_padded' is not defined"
     ]
    }
   ],
   "source": [
    "pickle.dump(data_padded, open('./solo_generation_dataset_augmented/solo_generation_dataset_padded.pkl', 'wb'))\n",
    "data_padded = pickle.load(open('./solo_generation_dataset_augmented/solo_generation_dataset_padded.pkl', 'rb'))\n",
    "#data = data_padded"
   ]
  },
  {
   "cell_type": "code",
   "execution_count": 27,
   "id": "fd89f6f7",
   "metadata": {},
   "outputs": [],
   "source": [
    "data_text = data\n",
    "for i in range(len(data)):\n",
    "    for j in range(len(data[i])):\n",
    "        string_array = [str(num) for num in data[i][j]]\n",
    "        data_text[i][j] = ' '.join(string_array)"
   ]
  },
  {
   "cell_type": "code",
   "execution_count": 29,
   "id": "0af70b59",
   "metadata": {},
   "outputs": [],
   "source": [
    "intros_t, intros_piano_t, outros_t, outros_piano_t, solos_t, solos_piano_t = data_text"
   ]
  },
  {
   "cell_type": "code",
   "execution_count": 30,
   "id": "4c6ecdcf",
   "metadata": {},
   "outputs": [],
   "source": [
    "intros_train, intros_t_subset, intros_piano_train, intros_piano_t_subset, outros_train, outros_t_subset, outros_piano_train, outros_piano_t_subset, solos_train, solos_t_subset, solos_piano_train, solos_piano_t_subset = train_test_split(intros_t, intros_piano_t, outros_t, outros_piano_t, solos_t, solos_piano_t, test_size=1576)"
   ]
  },
  {
   "cell_type": "code",
   "execution_count": 31,
   "id": "4b6d3688",
   "metadata": {},
   "outputs": [],
   "source": [
    "intros_test, intros_valid, intros_piano_test, intros_piano_valid, outros_test, outros_valid, outros_piano_test, outros_piano_valid, solos_test, solos_valid, solos_piano_test, solos_piano_valid = train_test_split(intros_t_subset, intros_piano_t_subset, outros_t_subset, outros_piano_t_subset, solos_t_subset, solos_piano_t_subset, test_size=788)"
   ]
  },
  {
   "cell_type": "code",
   "execution_count": 32,
   "id": "07761dce",
   "metadata": {},
   "outputs": [],
   "source": [
    "train = []\n",
    "val = []\n",
    "test = []\n",
    "\n",
    "for i in range(len(intros_train)):\n",
    "    train.append([intros_train[i],intros_piano_train[i], outros_train[i],outros_piano_train[i],solos_train[i], solos_piano_train[i]])\n",
    "    \n",
    "for i in range(len(intros_valid)):\n",
    "    val.append([intros_valid[i],intros_piano_valid[i], outros_valid[i],outros_piano_valid[i],solos_valid[i], solos_piano_valid[i]])\n",
    "    \n",
    "for i in range(len(intros_test)):\n",
    "    test.append([intros_test[i],intros_piano_test[i], outros_test[i],outros_piano_test[i],solos_test[i], solos_piano_test[i]])\n",
    "    "
   ]
  },
  {
   "cell_type": "code",
   "execution_count": 33,
   "id": "a39a460e",
   "metadata": {},
   "outputs": [],
   "source": [
    "df_train = pd.DataFrame(train,columns=['intro', 'intro_piano', 'outro', 'outro_piano','solo', 'solo_piano'])\n",
    "df_val = pd.DataFrame(test,columns=['intro', 'intro_piano', 'outro', 'outro_piano','solo', 'solo_piano'])\n",
    "df_test = pd.DataFrame(val,columns=['intro', 'intro_piano', 'outro', 'outro_piano','solo', 'solo_piano'])"
   ]
  },
  {
   "cell_type": "code",
   "execution_count": 34,
   "id": "195a318a",
   "metadata": {},
   "outputs": [],
   "source": [
    "destination_folder=\"solo_generation_dataset_augmented\"\n",
    "df_train.to_csv(destination_folder + '/train_torchtext.csv', index=False)\n",
    "df_val.to_csv(destination_folder + '/val_torchtext.csv', index=False)\n",
    "df_test.to_csv(destination_folder + '/test_torchtext.csv', index=False)"
   ]
  },
  {
   "cell_type": "code",
   "execution_count": 218,
   "id": "13a39866",
   "metadata": {},
   "outputs": [],
   "source": [
    "def remove_padding(series, word2event):\n",
    "    return [value for value in series if value != len(word2event)]"
   ]
  },
  {
   "cell_type": "code",
   "execution_count": 211,
   "id": "b96b61ee",
   "metadata": {
    "scrolled": true
   },
   "outputs": [],
   "source": [
    "lst_int = [int(x) for x in df_train.values[0][0].split(' ')]\n",
    "utils.write_midi(remove_padding(lst_int, word2event), word2event, 'test.midi')"
   ]
  }
 ],
 "metadata": {
  "kernelspec": {
   "display_name": "Python 3",
   "language": "python",
   "name": "python3"
  },
  "language_info": {
   "codemirror_mode": {
    "name": "ipython",
    "version": 3
   },
   "file_extension": ".py",
   "mimetype": "text/x-python",
   "name": "python",
   "nbconvert_exporter": "python",
   "pygments_lexer": "ipython3",
   "version": "3.8.2"
  }
 },
 "nbformat": 4,
 "nbformat_minor": 5
}
