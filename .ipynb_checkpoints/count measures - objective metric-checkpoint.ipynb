{
 "cells": [
  {
   "cell_type": "code",
   "execution_count": 9,
   "metadata": {},
   "outputs": [],
   "source": [
    "import miditoolkit\n",
    "import remi_utils as utils\n",
    "from collections import Counter\n",
    "import pickle\n",
    "import glob\n",
    "import json\n",
    "from sklearn.model_selection import train_test_split\n",
    "import pandas as pd\n",
    "import numpy as np\n",
    "import edist.sed\n",
    "from tslearn.metrics import dtw as tsdtw"
   ]
  },
  {
   "cell_type": "code",
   "execution_count": 2,
   "metadata": {},
   "outputs": [],
   "source": [
    "# create pickle file based on dataset\n",
    "\n",
    "def extract_events(input_path, chord=False):\n",
    "    note_items, tempo_items = utils.read_items(input_path)\n",
    "    note_items = utils.quantize_items(note_items)\n",
    "    max_time = note_items[-1].end\n",
    "    if chord:\n",
    "        chord_items = utils.extract_chords(note_items)\n",
    "        items = chord_items + tempo_items + note_items\n",
    "    else:\n",
    "        items = tempo_items + note_items\n",
    "    groups = utils.group_items(items, max_time)\n",
    "    events = utils.item2event(groups)\n",
    "    return events"
   ]
  },
  {
   "cell_type": "code",
   "execution_count": null,
   "metadata": {},
   "outputs": [],
   "source": []
  },
  {
   "cell_type": "code",
   "execution_count": 3,
   "metadata": {},
   "outputs": [],
   "source": [
    "def Average(lst):\n",
    "    return sum(lst) / len(lst)\n"
   ]
  },
  {
   "cell_type": "code",
   "execution_count": 4,
   "metadata": {},
   "outputs": [],
   "source": [
    "def AverageMeasureDifference(dict_path, pred_path, solo_path):\n",
    "\n",
    "    event2word, word2event = pickle.load(open(dict_path, 'rb'))\n",
    "\n",
    "    count = 0\n",
    "    solos = []\n",
    "    predicts = []\n",
    "    for i in range(112):\n",
    "        count += 1\n",
    "        # extract predict\n",
    "        predict = extract_events(pred_path + \"predict\" + str(i) + \".mid\")\n",
    "        w_predict = utils.event_to_word(predict, event2word)\n",
    "        predicts.append(w_predict)\n",
    "        # extract solo\n",
    "        solo = extract_events(solo_path + \"solo\" + str(i)+ \".mid\")\n",
    "        w_solo = utils.event_to_word(solo, event2word)\n",
    "        solos.append(w_solo)\n",
    "\n",
    "    diff = []\n",
    "    for i in range(112):\n",
    "        diff.append(abs(predicts[i].count(0) - solos[i].count(0)))\n",
    "\n",
    "    return Average(diff)"
   ]
  },
  {
   "cell_type": "code",
   "execution_count": 10,
   "metadata": {},
   "outputs": [],
   "source": [
    "def AverageSED(dict_path, pred_path, solo_path):\n",
    "\n",
    "    event2word, word2event = pickle.load(open(dict_path, 'rb'))\n",
    "\n",
    "    count = 0\n",
    "    solos = []\n",
    "    predicts = []\n",
    "    for i in range(112):\n",
    "        count += 1\n",
    "        # extract predict\n",
    "        predict = extract_events(pred_path + \"predict\" + str(i) + \".mid\")\n",
    "        w_predict = utils.event_to_word(predict, event2word)\n",
    "        predicts.append(w_predict)\n",
    "        # extract solo\n",
    "        solo = extract_events(solo_path + \"solo\" + str(i)+ \".mid\")\n",
    "        w_solo = utils.event_to_word(solo, event2word)\n",
    "        solos.append(w_solo)\n",
    "\n",
    "    diff = []\n",
    "    for i in range(112):\n",
    "        diff.append(edist.sed.standard_sed(predicts[i], solos[i]))\n",
    "\n",
    "    return Average(diff)"
   ]
  },
  {
   "cell_type": "code",
   "execution_count": 5,
   "metadata": {},
   "outputs": [
    {
     "name": "stdout",
     "output_type": "stream",
     "text": [
      "2.7857142857142856\n",
      "2.482142857142857\n",
      "2.9732142857142856\n",
      "3.4017857142857144\n"
     ]
    }
   ],
   "source": [
    "dynamic = AverageMeasureDifference('dictionary_dynamic.pkl', \"./dynamic_alphabetical_models/2enc/generated_samples/predict/\", \"./dynamic_alphabetical_models/2enc/generated_samples/solo/\")\n",
    "dynamic_aug = AverageMeasureDifference('dictionary_augmented.pkl', \"./dynamic_augmented_models/2enc/generated_samples/predict/\", \"./dynamic_augmented_models/2enc/generated_samples/solo/\")\n",
    "fixed = AverageMeasureDifference('dictionary_fixed.pkl', \"./fixed_models/2enc/generated_samples/predict/\", \"./fixed_models/2enc/generated_samples/solo/\")\n",
    "fixed_aug = AverageMeasureDifference('dictionary_fixed_augmented.pkl', \"./fixed_augmented_models/2enc/generated_samples/predict/\", \"./fixed_augmented_models/2enc/generated_samples/solo/\")\n",
    "\n",
    "print(dynamic)\n",
    "print(dynamic_aug)\n",
    "print(fixed)\n",
    "print(fixed_aug)"
   ]
  },
  {
   "cell_type": "code",
   "execution_count": 6,
   "metadata": {},
   "outputs": [
    {
     "name": "stdout",
     "output_type": "stream",
     "text": [
      "3.5\n",
      "2.267857142857143\n",
      "3.5535714285714284\n",
      "2.5\n"
     ]
    }
   ],
   "source": [
    "dynamic = AverageMeasureDifference('dictionary_dynamic.pkl', \"./dynamic_alphabetical_models/intro/generated_samples/predict/\", \"./dynamic_alphabetical_models/intro/generated_samples/solo/\")\n",
    "dynamic_aug = AverageMeasureDifference('dictionary_augmented.pkl', \"./dynamic_augmented_models/intro/generated_samples/predict/\", \"./dynamic_augmented_models/intro/generated_samples/solo/\")\n",
    "fixed = AverageMeasureDifference('dictionary_fixed.pkl', \"./fixed_models/intro/generated_samples/predict/\", \"./fixed_models/intro/generated_samples/solo/\")\n",
    "fixed_aug = AverageMeasureDifference('dictionary_fixed_augmented.pkl', \"./fixed_augmented_models/intro/generated_samples/predict/\", \"./fixed_augmented_models/intro/generated_samples/solo/\")\n",
    "\n",
    "print(dynamic)\n",
    "print(dynamic_aug)\n",
    "print(fixed)\n",
    "print(fixed_aug)"
   ]
  },
  {
   "cell_type": "code",
   "execution_count": 7,
   "metadata": {},
   "outputs": [
    {
     "name": "stdout",
     "output_type": "stream",
     "text": [
      "2.6875\n",
      "2.205357142857143\n",
      "2.9107142857142856\n",
      "2.9642857142857144\n"
     ]
    }
   ],
   "source": [
    "dynamic = AverageMeasureDifference('dictionary_dynamic.pkl', \"./dynamic_alphabetical_models/outro_2nd/generated_samples/predict/\", \"./dynamic_alphabetical_models/outro/generated_samples/solo/\")\n",
    "dynamic_aug = AverageMeasureDifference('dictionary_augmented.pkl', \"./dynamic_augmented_models/outro/generated_samples/predict/\", \"./dynamic_augmented_models/outro/generated_samples/solo/\")\n",
    "fixed = AverageMeasureDifference('dictionary_fixed.pkl', \"./fixed_models/outro/generated_samples/predict/\", \"./fixed_models/outro/generated_samples/solo/\")\n",
    "fixed_aug = AverageMeasureDifference('dictionary_fixed_augmented.pkl', \"./fixed_augmented_models/outro/generated_samples/predict/\", \"./fixed_augmented_models/outro/generated_samples/solo/\")\n",
    "\n",
    "print(dynamic)\n",
    "print(dynamic_aug)\n",
    "print(fixed)\n",
    "print(fixed_aug)"
   ]
  },
  {
   "cell_type": "code",
   "execution_count": null,
   "metadata": {},
   "outputs": [],
   "source": []
  },
  {
   "cell_type": "code",
   "execution_count": 12,
   "metadata": {},
   "outputs": [
    {
     "name": "stdout",
     "output_type": "stream",
     "text": [
      "232.72321428571428\n",
      "232.40178571428572\n",
      "253.60714285714286\n",
      "297.1607142857143\n"
     ]
    },
    {
     "ename": "FileNotFoundError",
     "evalue": "[Errno 2] No such file or directory: './dynamic_alphabetical_models/autoencoder/generated_samples/predict/predict0.mid'",
     "output_type": "error",
     "traceback": [
      "\u001b[1;31m---------------------------------------------------------------------------\u001b[0m",
      "\u001b[1;31mFileNotFoundError\u001b[0m                         Traceback (most recent call last)",
      "\u001b[1;32m<ipython-input-12-b52862afaa9e>\u001b[0m in \u001b[0;36m<module>\u001b[1;34m()\u001b[0m\n\u001b[0;32m      9\u001b[0m \u001b[0mprint\u001b[0m\u001b[1;33m(\u001b[0m\u001b[0mfixed_aug\u001b[0m\u001b[1;33m)\u001b[0m\u001b[1;33m\u001b[0m\u001b[1;33m\u001b[0m\u001b[0m\n\u001b[0;32m     10\u001b[0m \u001b[1;33m\u001b[0m\u001b[0m\n\u001b[1;32m---> 11\u001b[1;33m \u001b[0mdynamic\u001b[0m \u001b[1;33m=\u001b[0m \u001b[0mAverageSED\u001b[0m\u001b[1;33m(\u001b[0m\u001b[1;34m'dictionary_dynamic.pkl'\u001b[0m\u001b[1;33m,\u001b[0m \u001b[1;34m\"./dynamic_alphabetical_models/autoencoder/generated_samples/predict/\"\u001b[0m\u001b[1;33m,\u001b[0m \u001b[1;34m\"./dynamic_alphabetical_models/2enc/generated_samples/solo/\"\u001b[0m\u001b[1;33m)\u001b[0m\u001b[1;33m\u001b[0m\u001b[1;33m\u001b[0m\u001b[0m\n\u001b[0m\u001b[0;32m     12\u001b[0m \u001b[0mdynamic_aug\u001b[0m \u001b[1;33m=\u001b[0m \u001b[0mAverageSED\u001b[0m\u001b[1;33m(\u001b[0m\u001b[1;34m'dictionary_augmented.pkl'\u001b[0m\u001b[1;33m,\u001b[0m \u001b[1;34m\"./dynamic_augmented_models/autoencoder/generated_samples/predict/\"\u001b[0m\u001b[1;33m,\u001b[0m \u001b[1;34m\"./dynamic_augmented_models/2enc/generated_samples/solo/\"\u001b[0m\u001b[1;33m)\u001b[0m\u001b[1;33m\u001b[0m\u001b[1;33m\u001b[0m\u001b[0m\n\u001b[0;32m     13\u001b[0m \u001b[0mfixed\u001b[0m \u001b[1;33m=\u001b[0m \u001b[0mAverageSED\u001b[0m\u001b[1;33m(\u001b[0m\u001b[1;34m'dictionary_fixed.pkl'\u001b[0m\u001b[1;33m,\u001b[0m \u001b[1;34m\"./fixed_models/autoencoder/generated_samples/predict/\"\u001b[0m\u001b[1;33m,\u001b[0m \u001b[1;34m\"./fixed_models/2enc/generated_samples/solo/\"\u001b[0m\u001b[1;33m)\u001b[0m\u001b[1;33m\u001b[0m\u001b[1;33m\u001b[0m\u001b[0m\n",
      "\u001b[1;32m<ipython-input-10-253acc923c28>\u001b[0m in \u001b[0;36mAverageSED\u001b[1;34m(dict_path, pred_path, solo_path)\u001b[0m\n\u001b[0;32m      9\u001b[0m         \u001b[0mcount\u001b[0m \u001b[1;33m+=\u001b[0m \u001b[1;36m1\u001b[0m\u001b[1;33m\u001b[0m\u001b[1;33m\u001b[0m\u001b[0m\n\u001b[0;32m     10\u001b[0m         \u001b[1;31m# extract predict\u001b[0m\u001b[1;33m\u001b[0m\u001b[1;33m\u001b[0m\u001b[1;33m\u001b[0m\u001b[0m\n\u001b[1;32m---> 11\u001b[1;33m         \u001b[0mpredict\u001b[0m \u001b[1;33m=\u001b[0m \u001b[0mextract_events\u001b[0m\u001b[1;33m(\u001b[0m\u001b[0mpred_path\u001b[0m \u001b[1;33m+\u001b[0m \u001b[1;34m\"predict\"\u001b[0m \u001b[1;33m+\u001b[0m \u001b[0mstr\u001b[0m\u001b[1;33m(\u001b[0m\u001b[0mi\u001b[0m\u001b[1;33m)\u001b[0m \u001b[1;33m+\u001b[0m \u001b[1;34m\".mid\"\u001b[0m\u001b[1;33m)\u001b[0m\u001b[1;33m\u001b[0m\u001b[1;33m\u001b[0m\u001b[0m\n\u001b[0m\u001b[0;32m     12\u001b[0m         \u001b[0mw_predict\u001b[0m \u001b[1;33m=\u001b[0m \u001b[0mutils\u001b[0m\u001b[1;33m.\u001b[0m\u001b[0mevent_to_word\u001b[0m\u001b[1;33m(\u001b[0m\u001b[0mpredict\u001b[0m\u001b[1;33m,\u001b[0m \u001b[0mevent2word\u001b[0m\u001b[1;33m)\u001b[0m\u001b[1;33m\u001b[0m\u001b[1;33m\u001b[0m\u001b[0m\n\u001b[0;32m     13\u001b[0m         \u001b[0mpredicts\u001b[0m\u001b[1;33m.\u001b[0m\u001b[0mappend\u001b[0m\u001b[1;33m(\u001b[0m\u001b[0mw_predict\u001b[0m\u001b[1;33m)\u001b[0m\u001b[1;33m\u001b[0m\u001b[1;33m\u001b[0m\u001b[0m\n",
      "\u001b[1;32m<ipython-input-2-c023fadc75d7>\u001b[0m in \u001b[0;36mextract_events\u001b[1;34m(input_path, chord)\u001b[0m\n\u001b[0;32m      2\u001b[0m \u001b[1;33m\u001b[0m\u001b[0m\n\u001b[0;32m      3\u001b[0m \u001b[1;32mdef\u001b[0m \u001b[0mextract_events\u001b[0m\u001b[1;33m(\u001b[0m\u001b[0minput_path\u001b[0m\u001b[1;33m,\u001b[0m \u001b[0mchord\u001b[0m\u001b[1;33m=\u001b[0m\u001b[1;32mFalse\u001b[0m\u001b[1;33m)\u001b[0m\u001b[1;33m:\u001b[0m\u001b[1;33m\u001b[0m\u001b[1;33m\u001b[0m\u001b[0m\n\u001b[1;32m----> 4\u001b[1;33m     \u001b[0mnote_items\u001b[0m\u001b[1;33m,\u001b[0m \u001b[0mtempo_items\u001b[0m \u001b[1;33m=\u001b[0m \u001b[0mutils\u001b[0m\u001b[1;33m.\u001b[0m\u001b[0mread_items\u001b[0m\u001b[1;33m(\u001b[0m\u001b[0minput_path\u001b[0m\u001b[1;33m)\u001b[0m\u001b[1;33m\u001b[0m\u001b[1;33m\u001b[0m\u001b[0m\n\u001b[0m\u001b[0;32m      5\u001b[0m     \u001b[0mnote_items\u001b[0m \u001b[1;33m=\u001b[0m \u001b[0mutils\u001b[0m\u001b[1;33m.\u001b[0m\u001b[0mquantize_items\u001b[0m\u001b[1;33m(\u001b[0m\u001b[0mnote_items\u001b[0m\u001b[1;33m)\u001b[0m\u001b[1;33m\u001b[0m\u001b[1;33m\u001b[0m\u001b[0m\n\u001b[0;32m      6\u001b[0m     \u001b[0mmax_time\u001b[0m \u001b[1;33m=\u001b[0m \u001b[0mnote_items\u001b[0m\u001b[1;33m[\u001b[0m\u001b[1;33m-\u001b[0m\u001b[1;36m1\u001b[0m\u001b[1;33m]\u001b[0m\u001b[1;33m.\u001b[0m\u001b[0mend\u001b[0m\u001b[1;33m\u001b[0m\u001b[1;33m\u001b[0m\u001b[0m\n",
      "\u001b[1;32mD:\\Dropbox\\Thesis\\NTHU thesis\\NTHU_Thesis\\remi_utils.py\u001b[0m in \u001b[0;36mread_items\u001b[1;34m(file_path)\u001b[0m\n\u001b[0;32m     28\u001b[0m \u001b[1;31m# read notes and tempo changes from midi (assume there is only one track)\u001b[0m\u001b[1;33m\u001b[0m\u001b[1;33m\u001b[0m\u001b[1;33m\u001b[0m\u001b[0m\n\u001b[0;32m     29\u001b[0m \u001b[1;32mdef\u001b[0m \u001b[0mread_items\u001b[0m\u001b[1;33m(\u001b[0m\u001b[0mfile_path\u001b[0m\u001b[1;33m)\u001b[0m\u001b[1;33m:\u001b[0m\u001b[1;33m\u001b[0m\u001b[1;33m\u001b[0m\u001b[0m\n\u001b[1;32m---> 30\u001b[1;33m     \u001b[0mmidi_obj\u001b[0m \u001b[1;33m=\u001b[0m \u001b[0mmiditoolkit\u001b[0m\u001b[1;33m.\u001b[0m\u001b[0mmidi\u001b[0m\u001b[1;33m.\u001b[0m\u001b[0mparser\u001b[0m\u001b[1;33m.\u001b[0m\u001b[0mMidiFile\u001b[0m\u001b[1;33m(\u001b[0m\u001b[0mfile_path\u001b[0m\u001b[1;33m)\u001b[0m\u001b[1;33m\u001b[0m\u001b[1;33m\u001b[0m\u001b[0m\n\u001b[0m\u001b[0;32m     31\u001b[0m     \u001b[1;31m# note\u001b[0m\u001b[1;33m\u001b[0m\u001b[1;33m\u001b[0m\u001b[1;33m\u001b[0m\u001b[0m\n\u001b[0;32m     32\u001b[0m     \u001b[0mnote_items\u001b[0m \u001b[1;33m=\u001b[0m \u001b[1;33m[\u001b[0m\u001b[1;33m]\u001b[0m\u001b[1;33m\u001b[0m\u001b[1;33m\u001b[0m\u001b[0m\n",
      "\u001b[1;32mc:\\users\\me\\appdata\\local\\programs\\python\\python37\\lib\\site-packages\\miditoolkit\\midi\\parser.py\u001b[0m in \u001b[0;36m__init__\u001b[1;34m(self, filename, file, ticks_per_beat)\u001b[0m\n\u001b[0;32m     29\u001b[0m             \u001b[1;32mif\u001b[0m \u001b[0mfilename\u001b[0m\u001b[1;33m:\u001b[0m\u001b[1;33m\u001b[0m\u001b[1;33m\u001b[0m\u001b[0m\n\u001b[0;32m     30\u001b[0m                 \u001b[1;31m# filename\u001b[0m\u001b[1;33m\u001b[0m\u001b[1;33m\u001b[0m\u001b[1;33m\u001b[0m\u001b[0m\n\u001b[1;32m---> 31\u001b[1;33m                 \u001b[0mmido_obj\u001b[0m \u001b[1;33m=\u001b[0m \u001b[0mmido\u001b[0m\u001b[1;33m.\u001b[0m\u001b[0mMidiFile\u001b[0m\u001b[1;33m(\u001b[0m\u001b[0mfilename\u001b[0m\u001b[1;33m=\u001b[0m\u001b[0mfilename\u001b[0m\u001b[1;33m)\u001b[0m\u001b[1;33m\u001b[0m\u001b[1;33m\u001b[0m\u001b[0m\n\u001b[0m\u001b[0;32m     32\u001b[0m             \u001b[1;32melse\u001b[0m\u001b[1;33m:\u001b[0m\u001b[1;33m\u001b[0m\u001b[1;33m\u001b[0m\u001b[0m\n\u001b[0;32m     33\u001b[0m                 \u001b[0mmido_obj\u001b[0m \u001b[1;33m=\u001b[0m \u001b[0mmido\u001b[0m\u001b[1;33m.\u001b[0m\u001b[0mMidiFile\u001b[0m\u001b[1;33m(\u001b[0m\u001b[0mfile\u001b[0m\u001b[1;33m=\u001b[0m\u001b[0mfile\u001b[0m\u001b[1;33m)\u001b[0m\u001b[1;33m\u001b[0m\u001b[1;33m\u001b[0m\u001b[0m\n",
      "\u001b[1;32mc:\\users\\me\\appdata\\local\\programs\\python\\python37\\lib\\site-packages\\mido\\midifiles\\midifiles.py\u001b[0m in \u001b[0;36m__init__\u001b[1;34m(self, filename, file, type, ticks_per_beat, charset, debug, clip)\u001b[0m\n\u001b[0;32m    313\u001b[0m             \u001b[0mself\u001b[0m\u001b[1;33m.\u001b[0m\u001b[0m_load\u001b[0m\u001b[1;33m(\u001b[0m\u001b[0mfile\u001b[0m\u001b[1;33m)\u001b[0m\u001b[1;33m\u001b[0m\u001b[1;33m\u001b[0m\u001b[0m\n\u001b[0;32m    314\u001b[0m         \u001b[1;32melif\u001b[0m \u001b[0mself\u001b[0m\u001b[1;33m.\u001b[0m\u001b[0mfilename\u001b[0m \u001b[1;32mis\u001b[0m \u001b[1;32mnot\u001b[0m \u001b[1;32mNone\u001b[0m\u001b[1;33m:\u001b[0m\u001b[1;33m\u001b[0m\u001b[1;33m\u001b[0m\u001b[0m\n\u001b[1;32m--> 315\u001b[1;33m             \u001b[1;32mwith\u001b[0m \u001b[0mio\u001b[0m\u001b[1;33m.\u001b[0m\u001b[0mopen\u001b[0m\u001b[1;33m(\u001b[0m\u001b[0mfilename\u001b[0m\u001b[1;33m,\u001b[0m \u001b[1;34m'rb'\u001b[0m\u001b[1;33m)\u001b[0m \u001b[1;32mas\u001b[0m \u001b[0mfile\u001b[0m\u001b[1;33m:\u001b[0m\u001b[1;33m\u001b[0m\u001b[1;33m\u001b[0m\u001b[0m\n\u001b[0m\u001b[0;32m    316\u001b[0m                 \u001b[0mself\u001b[0m\u001b[1;33m.\u001b[0m\u001b[0m_load\u001b[0m\u001b[1;33m(\u001b[0m\u001b[0mfile\u001b[0m\u001b[1;33m)\u001b[0m\u001b[1;33m\u001b[0m\u001b[1;33m\u001b[0m\u001b[0m\n\u001b[0;32m    317\u001b[0m \u001b[1;33m\u001b[0m\u001b[0m\n",
      "\u001b[1;31mFileNotFoundError\u001b[0m: [Errno 2] No such file or directory: './dynamic_alphabetical_models/autoencoder/generated_samples/predict/predict0.mid'"
     ]
    }
   ],
   "source": [
    "dynamic = AverageSED('dictionary_dynamic.pkl', \"./dynamic_alphabetical_models/2enc/generated_samples/predict/\", \"./dynamic_alphabetical_models/2enc/generated_samples/solo/\")\n",
    "dynamic_aug = AverageSED('dictionary_augmented.pkl', \"./dynamic_augmented_models/2enc/generated_samples/predict/\", \"./dynamic_augmented_models/2enc/generated_samples/solo/\")\n",
    "fixed = AverageSED('dictionary_fixed.pkl', \"./fixed_models/2enc/generated_samples/predict/\", \"./fixed_models/2enc/generated_samples/solo/\")\n",
    "fixed_aug = AverageSED('dictionary_fixed_augmented.pkl', \"./fixed_augmented_models/2enc/generated_samples/predict/\", \"./fixed_augmented_models/2enc/generated_samples/solo/\")\n",
    "\n",
    "print(dynamic)\n",
    "print(dynamic_aug)\n",
    "print(fixed)\n",
    "print(fixed_aug)\n",
    "\n",
    "dynamic = AverageSED('dictionary_dynamic.pkl', \"./dynamic_alphabetical_models/autoencoder/generated_samples/predict/\", \"./dynamic_alphabetical_models/2enc/generated_samples/solo/\")\n",
    "dynamic_aug = AverageSED('dictionary_augmented.pkl', \"./dynamic_augmented_models/autoencoder/generated_samples/predict/\", \"./dynamic_augmented_models/2enc/generated_samples/solo/\")\n",
    "fixed = AverageSED('dictionary_fixed.pkl', \"./fixed_models/autoencoder/generated_samples/predict/\", \"./fixed_models/2enc/generated_samples/solo/\")\n",
    "fixed_aug = AverageSED('dictionary_fixed_augmented.pkl', \"./fixed_augmented_models/autoencoder/generated_samples/predict/\", \"./fixed_augmented_models/2enc/generated_samples/solo/\")\n",
    "\n",
    "print(dynamic)\n",
    "print(dynamic_aug)\n",
    "print(fixed)\n",
    "print(fixed_aug)"
   ]
  },
  {
   "cell_type": "code",
   "execution_count": null,
   "metadata": {},
   "outputs": [],
   "source": []
  }
 ],
 "metadata": {
  "kernelspec": {
   "display_name": "Python 3",
   "language": "python",
   "name": "python3"
  },
  "language_info": {
   "codemirror_mode": {
    "name": "ipython",
    "version": 3
   },
   "file_extension": ".py",
   "mimetype": "text/x-python",
   "name": "python",
   "nbconvert_exporter": "python",
   "pygments_lexer": "ipython3",
   "version": "3.7.7"
  }
 },
 "nbformat": 4,
 "nbformat_minor": 4
}
