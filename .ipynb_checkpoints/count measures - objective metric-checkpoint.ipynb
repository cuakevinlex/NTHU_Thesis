{
 "cells": [
  {
   "cell_type": "code",
   "execution_count": 5,
   "metadata": {},
   "outputs": [],
   "source": [
    "import miditoolkit\n",
    "import remi_utils as utils\n",
    "from collections import Counter\n",
    "import pickle\n",
    "from glob import glob\n",
    "import json\n",
    "from sklearn.model_selection import train_test_split\n",
    "import pandas as pd\n",
    "import numpy as np\n",
    "import edist.sed\n",
    "from tslearn.metrics import dtw as tsdtw"
   ]
  },
  {
   "cell_type": "code",
   "execution_count": 2,
   "metadata": {},
   "outputs": [],
   "source": [
    "# create pickle file based on dataset\n",
    "\n",
    "def extract_events(input_path, chord=False):\n",
    "    note_items, tempo_items = utils.read_items(input_path)\n",
    "    note_items = utils.quantize_items(note_items)\n",
    "    max_time = note_items[-1].end\n",
    "    if chord:\n",
    "        chord_items = utils.extract_chords(note_items)\n",
    "        items = chord_items + tempo_items + note_items\n",
    "    else:\n",
    "        items = tempo_items + note_items\n",
    "    groups = utils.group_items(items, max_time)\n",
    "    events = utils.item2event(groups)\n",
    "    return events"
   ]
  },
  {
   "cell_type": "code",
   "execution_count": 6,
   "metadata": {},
   "outputs": [
    {
     "name": "stdout",
     "output_type": "stream",
     "text": [
      "c:\\users\\me\\appdata\\local\\programs\\python\\python37\\lib\\glob.py\n"
     ]
    }
   ],
   "source": [
    "print(glob.__file__)"
   ]
  },
  {
   "cell_type": "code",
   "execution_count": 3,
   "metadata": {},
   "outputs": [],
   "source": [
    "def get_events(dict_path, seq_path):\n",
    "    paths = glob(seq_path)\n",
    "    event2word, word2event = pickle.load(open(dict_path, 'rb'))\n",
    "    seq = []\n",
    "    for i in paths:\n",
    "        seq = extract_events(i)\n",
    "        w_seq = utils.event_to_word(seq, event2word)\n",
    "        seqs.append(w_seq)\n",
    "    return seqs"
   ]
  },
  {
   "cell_type": "code",
   "execution_count": 4,
   "metadata": {},
   "outputs": [
    {
     "ename": "TypeError",
     "evalue": "'module' object is not callable",
     "output_type": "error",
     "traceback": [
      "\u001b[1;31m---------------------------------------------------------------------------\u001b[0m",
      "\u001b[1;31mTypeError\u001b[0m                                 Traceback (most recent call last)",
      "\u001b[1;32m<ipython-input-4-9e0797fcd1c2>\u001b[0m in \u001b[0;36m<module>\u001b[1;34m()\u001b[0m\n\u001b[1;32m----> 1\u001b[1;33m \u001b[0mprint\u001b[0m\u001b[1;33m(\u001b[0m\u001b[0mget_events\u001b[0m\u001b[1;33m(\u001b[0m\u001b[1;34m\"dictionary_fixed_augmented.pkl\"\u001b[0m\u001b[1;33m,\u001b[0m\u001b[1;34m\"./fixed_augmented_models/autoencoder/generated_samples/predict/*\"\u001b[0m\u001b[1;33m,\u001b[0m \u001b[1;33m)\u001b[0m\u001b[1;33m)\u001b[0m\u001b[1;33m\u001b[0m\u001b[1;33m\u001b[0m\u001b[0m\n\u001b[0m",
      "\u001b[1;32m<ipython-input-3-8607313dfb4f>\u001b[0m in \u001b[0;36mget_events\u001b[1;34m(dict_path, seq_path)\u001b[0m\n\u001b[0;32m      1\u001b[0m \u001b[1;32mdef\u001b[0m \u001b[0mget_events\u001b[0m\u001b[1;33m(\u001b[0m\u001b[0mdict_path\u001b[0m\u001b[1;33m,\u001b[0m \u001b[0mseq_path\u001b[0m\u001b[1;33m)\u001b[0m\u001b[1;33m:\u001b[0m\u001b[1;33m\u001b[0m\u001b[1;33m\u001b[0m\u001b[0m\n\u001b[1;32m----> 2\u001b[1;33m     \u001b[0mpaths\u001b[0m \u001b[1;33m=\u001b[0m \u001b[0mglob\u001b[0m\u001b[1;33m(\u001b[0m\u001b[0mseq_path\u001b[0m\u001b[1;33m)\u001b[0m\u001b[1;33m\u001b[0m\u001b[1;33m\u001b[0m\u001b[0m\n\u001b[0m\u001b[0;32m      3\u001b[0m     \u001b[0mevent2word\u001b[0m\u001b[1;33m,\u001b[0m \u001b[0mword2event\u001b[0m \u001b[1;33m=\u001b[0m \u001b[0mpickle\u001b[0m\u001b[1;33m.\u001b[0m\u001b[0mload\u001b[0m\u001b[1;33m(\u001b[0m\u001b[0mopen\u001b[0m\u001b[1;33m(\u001b[0m\u001b[0mdict_path\u001b[0m\u001b[1;33m,\u001b[0m \u001b[1;34m'rb'\u001b[0m\u001b[1;33m)\u001b[0m\u001b[1;33m)\u001b[0m\u001b[1;33m\u001b[0m\u001b[1;33m\u001b[0m\u001b[0m\n\u001b[0;32m      4\u001b[0m     \u001b[0mseq\u001b[0m \u001b[1;33m=\u001b[0m \u001b[1;33m[\u001b[0m\u001b[1;33m]\u001b[0m\u001b[1;33m\u001b[0m\u001b[1;33m\u001b[0m\u001b[0m\n\u001b[0;32m      5\u001b[0m     \u001b[1;32mfor\u001b[0m \u001b[0mi\u001b[0m \u001b[1;32min\u001b[0m \u001b[0mpaths\u001b[0m\u001b[1;33m:\u001b[0m\u001b[1;33m\u001b[0m\u001b[1;33m\u001b[0m\u001b[0m\n",
      "\u001b[1;31mTypeError\u001b[0m: 'module' object is not callable"
     ]
    }
   ],
   "source": [
    "print(get_events(\"dictionary_fixed_augmented.pkl\",\"./fixed_augmented_models/autoencoder/generated_samples/predict/*\", ))"
   ]
  },
  {
   "cell_type": "code",
   "execution_count": 3,
   "metadata": {},
   "outputs": [],
   "source": [
    "def Average(lst):\n",
    "    return sum(lst) / len(lst)\n"
   ]
  },
  {
   "cell_type": "code",
   "execution_count": 4,
   "metadata": {},
   "outputs": [],
   "source": [
    "def AverageMeasureDifference(dict_path, pred_path, solo_path):\n",
    "\n",
    "    event2word, word2event = pickle.load(open(dict_path, 'rb'))\n",
    "\n",
    "    count = 0\n",
    "    solos = []\n",
    "    predicts = []\n",
    "    for i in range(112):\n",
    "        count += 1\n",
    "        # extract predict\n",
    "        predict = extract_events(pred_path + \"predict\" + str(i) + \".mid\")\n",
    "        w_predict = utils.event_to_word(predict, event2word)\n",
    "        predicts.append(w_predict)\n",
    "        # extract solo\n",
    "        solo = extract_events(solo_path + \"solo\" + str(i)+ \".mid\")\n",
    "        w_solo = utils.event_to_word(solo, event2word)\n",
    "        solos.append(w_solo)\n",
    "\n",
    "    diff = []\n",
    "    for i in range(112):\n",
    "        diff.append(abs(predicts[i].count(0) - solos[i].count(0)))\n",
    "\n",
    "    return Average(diff)"
   ]
  },
  {
   "cell_type": "code",
   "execution_count": null,
   "metadata": {},
   "outputs": [],
   "source": [
    "def AverageMeasureDifference(dict_path, pred_path, solo_path):\n",
    "\n",
    "    event2word, word2event = pickle.load(open(dict_path, 'rb'))\n",
    "\n",
    "    count = 0\n",
    "    solos = []\n",
    "    predicts = []\n",
    "    for i in range(112):\n",
    "        count += 1\n",
    "        # extract predict\n",
    "        predict = extract_events(pred_path + \"predict\" + str(i) + \".mid\")\n",
    "        w_predict = utils.event_to_word(predict, event2word)\n",
    "        predicts.append(w_predict)\n",
    "        # extract solo\n",
    "        solo = extract_events(solo_path + \"solo\" + str(i)+ \".mid\")\n",
    "        w_solo = utils.event_to_word(solo, event2word)\n",
    "        solos.append(w_solo)\n",
    "\n",
    "    diff = []\n",
    "    for i in range(112):\n",
    "        diff.append(abs(predicts[i].count(0) - solos[i].count(0)))\n",
    "\n",
    "    return Average(diff)"
   ]
  },
  {
   "cell_type": "code",
   "execution_count": 10,
   "metadata": {},
   "outputs": [],
   "source": [
    "def AverageSED(dict_path, pred_path, solo_path):\n",
    "\n",
    "    event2word, word2event = pickle.load(open(dict_path, 'rb'))\n",
    "\n",
    "    count = 0\n",
    "    solos = []\n",
    "    predicts = []\n",
    "    for i in range(112):\n",
    "        count += 1\n",
    "        # extract predict\n",
    "        predict = extract_events(pred_path + \"predict\" + str(i) + \".mid\")\n",
    "        w_predict = utils.event_to_word(predict, event2word)\n",
    "        predicts.append(w_predict)\n",
    "        # extract solo\n",
    "        solo = extract_events(solo_path + \"solo\" + str(i)+ \".mid\")\n",
    "        w_solo = utils.event_to_word(solo, event2word)\n",
    "        solos.append(w_solo)\n",
    "\n",
    "    diff = []\n",
    "    for i in range(112):\n",
    "        diff.append(edist.sed.standard_sed(predicts[i], solos[i]))\n",
    "\n",
    "    return Average(diff)"
   ]
  },
  {
   "cell_type": "code",
   "execution_count": 14,
   "metadata": {},
   "outputs": [],
   "source": [
    "def AverageDTW(dict_path, pred_path, solo_path):\n",
    "\n",
    "    event2word, word2event = pickle.load(open(dict_path, 'rb'))\n",
    "\n",
    "    count = 0\n",
    "    solos = []\n",
    "    predicts = []\n",
    "    for i in range(112):\n",
    "        count += 1\n",
    "        # extract predict\n",
    "        predict = extract_events(pred_path + \"predict\" + str(i) + \".mid\")\n",
    "        w_predict = utils.event_to_word(predict, event2word)\n",
    "        predicts.append(w_predict)\n",
    "        # extract solo\n",
    "        solo = extract_events(solo_path + \"solo\" + str(i)+ \".mid\")\n",
    "        w_solo = utils.event_to_word(solo, event2word)\n",
    "        solos.append(w_solo)\n",
    "\n",
    "    diff = []\n",
    "    for i in range(112):\n",
    "        diff.append(tsdtw(predicts[i], solos[i]))\n",
    "\n",
    "    return Average(diff)"
   ]
  },
  {
   "cell_type": "code",
   "execution_count": 17,
   "metadata": {},
   "outputs": [
    {
     "name": "stdout",
     "output_type": "stream",
     "text": [
      "2.7857142857142856\n",
      "2.482142857142857\n",
      "2.9732142857142856\n",
      "3.4017857142857144\n",
      "3.5\n",
      "2.267857142857143\n",
      "3.5535714285714284\n",
      "2.5\n",
      "2.6875\n",
      "2.205357142857143\n",
      "2.9107142857142856\n",
      "2.9642857142857144\n",
      "0.9642857142857143\n",
      "1.0267857142857142\n",
      "3.392857142857143\n",
      "3.294642857142857\n"
     ]
    }
   ],
   "source": [
    "dynamic = AverageMeasureDifference('dictionary_dynamic.pkl', \"./dynamic_alphabetical_models/2enc/generated_samples/predict/\", \"./dynamic_alphabetical_models/2enc/generated_samples/solo/\")\n",
    "dynamic_aug = AverageMeasureDifference('dictionary_augmented.pkl', \"./dynamic_augmented_models/2enc/generated_samples/predict/\", \"./dynamic_augmented_models/2enc/generated_samples/solo/\")\n",
    "fixed = AverageMeasureDifference('dictionary_fixed.pkl', \"./fixed_models/2enc/generated_samples/predict/\", \"./fixed_models/2enc/generated_samples/solo/\")\n",
    "fixed_aug = AverageMeasureDifference('dictionary_fixed_augmented.pkl', \"./fixed_augmented_models/2enc/generated_samples/predict/\", \"./fixed_augmented_models/2enc/generated_samples/solo/\")\n",
    "\n",
    "print(dynamic)\n",
    "print(dynamic_aug)\n",
    "print(fixed)\n",
    "print(fixed_aug)\n",
    "\n",
    "dynamic = AverageMeasureDifference('dictionary_dynamic.pkl', \"./dynamic_alphabetical_models/intro/generated_samples/predict/\", \"./dynamic_alphabetical_models/intro/generated_samples/solo/\")\n",
    "dynamic_aug = AverageMeasureDifference('dictionary_augmented.pkl', \"./dynamic_augmented_models/intro/generated_samples/predict/\", \"./dynamic_augmented_models/intro/generated_samples/solo/\")\n",
    "fixed = AverageMeasureDifference('dictionary_fixed.pkl', \"./fixed_models/intro/generated_samples/predict/\", \"./fixed_models/intro/generated_samples/solo/\")\n",
    "fixed_aug = AverageMeasureDifference('dictionary_fixed_augmented.pkl', \"./fixed_augmented_models/intro/generated_samples/predict/\", \"./fixed_augmented_models/intro/generated_samples/solo/\")\n",
    "\n",
    "print(dynamic)\n",
    "print(dynamic_aug)\n",
    "print(fixed)\n",
    "print(fixed_aug)\n",
    "\n",
    "dynamic = AverageMeasureDifference('dictionary_dynamic.pkl', \"./dynamic_alphabetical_models/outro_2nd/generated_samples/predict/\", \"./dynamic_alphabetical_models/outro/generated_samples/solo/\")\n",
    "dynamic_aug = AverageMeasureDifference('dictionary_augmented.pkl', \"./dynamic_augmented_models/outro/generated_samples/predict/\", \"./dynamic_augmented_models/outro/generated_samples/solo/\")\n",
    "fixed = AverageMeasureDifference('dictionary_fixed.pkl', \"./fixed_models/outro/generated_samples/predict/\", \"./fixed_models/outro/generated_samples/solo/\")\n",
    "fixed_aug = AverageMeasureDifference('dictionary_fixed_augmented.pkl', \"./fixed_augmented_models/outro/generated_samples/predict/\", \"./fixed_augmented_models/outro/generated_samples/solo/\")\n",
    "\n",
    "print(dynamic)\n",
    "print(dynamic_aug)\n",
    "print(fixed)\n",
    "print(fixed_aug)\n",
    "\n",
    "dynamic = AverageMeasureDifference('dictionary_dynamic.pkl', \"./dynamic_alphabetical_models/autoencoder/generated_samples/predict/\", \"./dynamic_alphabetical_models/autoencoder/generated_samples/solo/\")\n",
    "dynamic_aug = AverageMeasureDifference('dictionary_augmented.pkl', \"./dynamic_augmented_models/autoencoder/generated_samples/predict/\", \"./dynamic_augmented_models/autoencoder/generated_samples/solo/\")\n",
    "fixed = AverageMeasureDifference('dictionary_fixed.pkl', \"./fixed_models/autoencoder/generated_samples/predict/\", \"./fixed_models/autoencoder/generated_samples/solo/\")\n",
    "fixed_aug = AverageMeasureDifference('dictionary_fixed_augmented.pkl', \"./fixed_augmented_models/autoencoder/generated_samples/predict/\", \"./fixed_augmented_models/autoencoder/generated_samples/solo/\")\n",
    "\n",
    "print(dynamic)\n",
    "print(dynamic_aug)\n",
    "print(fixed)\n",
    "print(fixed_aug)"
   ]
  },
  {
   "cell_type": "code",
   "execution_count": 13,
   "metadata": {},
   "outputs": [
    {
     "name": "stdout",
     "output_type": "stream",
     "text": [
      "232.72321428571428\n",
      "232.40178571428572\n",
      "253.60714285714286\n",
      "297.1607142857143\n",
      "191.875\n",
      "194.76785714285714\n",
      "187.36607142857142\n",
      "187.58928571428572\n"
     ]
    }
   ],
   "source": [
    "dynamic = AverageSED('dictionary_dynamic.pkl', \"./dynamic_alphabetical_models/2enc/generated_samples/predict/\", \"./dynamic_alphabetical_models/2enc/generated_samples/solo/\")\n",
    "dynamic_aug = AverageSED('dictionary_augmented.pkl', \"./dynamic_augmented_models/2enc/generated_samples/predict/\", \"./dynamic_augmented_models/2enc/generated_samples/solo/\")\n",
    "fixed = AverageSED('dictionary_fixed.pkl', \"./fixed_models/2enc/generated_samples/predict/\", \"./fixed_models/2enc/generated_samples/solo/\")\n",
    "fixed_aug = AverageSED('dictionary_fixed_augmented.pkl', \"./fixed_augmented_models/2enc/generated_samples/predict/\", \"./fixed_augmented_models/2enc/generated_samples/solo/\")\n",
    "\n",
    "print(dynamic)\n",
    "print(dynamic_aug)\n",
    "print(fixed)\n",
    "print(fixed_aug)\n",
    "\n",
    "dynamic = AverageSED('dictionary_dynamic.pkl', \"./dynamic_alphabetical_models/autoencoder/generated_samples/predict/\", \"./dynamic_alphabetical_models/2enc/generated_samples/solo/\")\n",
    "dynamic_aug = AverageSED('dictionary_augmented.pkl', \"./dynamic_augmented_models/autoencoder/generated_samples/predict/\", \"./dynamic_augmented_models/2enc/generated_samples/solo/\")\n",
    "fixed = AverageSED('dictionary_fixed.pkl', \"./fixed_models/autoencoder/generated_samples/predict/\", \"./fixed_models/2enc/generated_samples/solo/\")\n",
    "fixed_aug = AverageSED('dictionary_fixed_augmented.pkl', \"./fixed_augmented_models/autoencoder/generated_samples/predict/\", \"./fixed_augmented_models/2enc/generated_samples/solo/\")\n",
    "\n",
    "print(dynamic)\n",
    "print(dynamic_aug)\n",
    "print(fixed)\n",
    "print(fixed_aug)"
   ]
  },
  {
   "cell_type": "code",
   "execution_count": 15,
   "metadata": {},
   "outputs": [
    {
     "name": "stdout",
     "output_type": "stream",
     "text": [
      "320.4719587120271\n",
      "342.23175180686667\n",
      "348.46461692118254\n",
      "411.1840143579853\n",
      "289.6982225175662\n",
      "298.0723005510289\n",
      "300.75025615316684\n",
      "328.9118926456503\n"
     ]
    }
   ],
   "source": [
    "dynamic = AverageDTW('dictionary_dynamic.pkl', \"./dynamic_alphabetical_models/2enc/generated_samples/predict/\", \"./dynamic_alphabetical_models/2enc/generated_samples/solo/\")\n",
    "dynamic_aug = AverageDTW('dictionary_augmented.pkl', \"./dynamic_augmented_models/2enc/generated_samples/predict/\", \"./dynamic_augmented_models/2enc/generated_samples/solo/\")\n",
    "fixed = AverageDTW('dictionary_fixed.pkl', \"./fixed_models/2enc/generated_samples/predict/\", \"./fixed_models/2enc/generated_samples/solo/\")\n",
    "fixed_aug = AverageDTW('dictionary_fixed_augmented.pkl', \"./fixed_augmented_models/2enc/generated_samples/predict/\", \"./fixed_augmented_models/2enc/generated_samples/solo/\")\n",
    "\n",
    "print(dynamic)\n",
    "print(dynamic_aug)\n",
    "print(fixed)\n",
    "print(fixed_aug)\n",
    "\n",
    "dynamic = AverageDTW('dictionary_dynamic.pkl', \"./dynamic_alphabetical_models/autoencoder/generated_samples/predict/\", \"./dynamic_alphabetical_models/2enc/generated_samples/solo/\")\n",
    "dynamic_aug = AverageDTW('dictionary_augmented.pkl', \"./dynamic_augmented_models/autoencoder/generated_samples/predict/\", \"./dynamic_augmented_models/2enc/generated_samples/solo/\")\n",
    "fixed = AverageDTW('dictionary_fixed.pkl', \"./fixed_models/autoencoder/generated_samples/predict/\", \"./fixed_models/2enc/generated_samples/solo/\")\n",
    "fixed_aug = AverageDTW('dictionary_fixed_augmented.pkl', \"./fixed_augmented_models/autoencoder/generated_samples/predict/\", \"./fixed_augmented_models/2enc/generated_samples/solo/\")\n",
    "\n",
    "print(dynamic)\n",
    "print(dynamic_aug)\n",
    "print(fixed)\n",
    "print(fixed_aug)"
   ]
  },
  {
   "cell_type": "code",
   "execution_count": 20,
   "metadata": {},
   "outputs": [
    {
     "ename": "NameError",
     "evalue": "name 'i' is not defined",
     "output_type": "error",
     "traceback": [
      "\u001b[1;31m---------------------------------------------------------------------------\u001b[0m",
      "\u001b[1;31mNameError\u001b[0m                                 Traceback (most recent call last)",
      "\u001b[1;32m<ipython-input-20-5ef5c5c58729>\u001b[0m in \u001b[0;36m<module>\u001b[1;34m()\u001b[0m\n\u001b[1;32m----> 1\u001b[1;33m \u001b[0mprint\u001b[0m\u001b[1;33m(\u001b[0m\u001b[0mget_events\u001b[0m\u001b[1;33m(\u001b[0m\u001b[1;34m\"dictionary_fixed_augmented.pkl\"\u001b[0m\u001b[1;33m,\u001b[0m\u001b[1;34m\"./fixed_augmented_models/autoencoder/generated_samples/predict/predict\"\u001b[0m\u001b[1;33m,\u001b[0m \u001b[1;33m)\u001b[0m\u001b[1;33m)\u001b[0m\u001b[1;33m\u001b[0m\u001b[1;33m\u001b[0m\u001b[0m\n\u001b[0m",
      "\u001b[1;32m<ipython-input-18-c021790945be>\u001b[0m in \u001b[0;36mget_events\u001b[1;34m(dict_path, seq_path)\u001b[0m\n\u001b[0;32m      3\u001b[0m     \u001b[0mevent2word\u001b[0m\u001b[1;33m,\u001b[0m \u001b[0mword2event\u001b[0m \u001b[1;33m=\u001b[0m \u001b[0mpickle\u001b[0m\u001b[1;33m.\u001b[0m\u001b[0mload\u001b[0m\u001b[1;33m(\u001b[0m\u001b[0mopen\u001b[0m\u001b[1;33m(\u001b[0m\u001b[0mdict_path\u001b[0m\u001b[1;33m,\u001b[0m \u001b[1;34m'rb'\u001b[0m\u001b[1;33m)\u001b[0m\u001b[1;33m)\u001b[0m\u001b[1;33m\u001b[0m\u001b[1;33m\u001b[0m\u001b[0m\n\u001b[0;32m      4\u001b[0m     \u001b[0mseq\u001b[0m \u001b[1;33m=\u001b[0m \u001b[1;33m[\u001b[0m\u001b[1;33m]\u001b[0m\u001b[1;33m\u001b[0m\u001b[1;33m\u001b[0m\u001b[0m\n\u001b[1;32m----> 5\u001b[1;33m     \u001b[0mseq\u001b[0m \u001b[1;33m=\u001b[0m \u001b[0mextract_events\u001b[0m\u001b[1;33m(\u001b[0m\u001b[0mseq_path\u001b[0m \u001b[1;33m+\u001b[0m \u001b[0mstr\u001b[0m\u001b[1;33m(\u001b[0m\u001b[0mi\u001b[0m\u001b[1;33m)\u001b[0m \u001b[1;33m+\u001b[0m \u001b[1;34m\".mid\"\u001b[0m\u001b[1;33m)\u001b[0m\u001b[1;33m\u001b[0m\u001b[1;33m\u001b[0m\u001b[0m\n\u001b[0m\u001b[0;32m      6\u001b[0m     \u001b[0mw_seq\u001b[0m \u001b[1;33m=\u001b[0m \u001b[0mutils\u001b[0m\u001b[1;33m.\u001b[0m\u001b[0mevent_to_word\u001b[0m\u001b[1;33m(\u001b[0m\u001b[0mseq\u001b[0m\u001b[1;33m,\u001b[0m \u001b[0mevent2word\u001b[0m\u001b[1;33m)\u001b[0m\u001b[1;33m\u001b[0m\u001b[1;33m\u001b[0m\u001b[0m\n\u001b[0;32m      7\u001b[0m     \u001b[0mseqs\u001b[0m\u001b[1;33m.\u001b[0m\u001b[0mappend\u001b[0m\u001b[1;33m(\u001b[0m\u001b[0mw_seq\u001b[0m\u001b[1;33m)\u001b[0m\u001b[1;33m\u001b[0m\u001b[1;33m\u001b[0m\u001b[0m\n",
      "\u001b[1;31mNameError\u001b[0m: name 'i' is not defined"
     ]
    }
   ],
   "source": []
  },
  {
   "cell_type": "code",
   "execution_count": null,
   "metadata": {},
   "outputs": [],
   "source": []
  }
 ],
 "metadata": {
  "kernelspec": {
   "display_name": "Python 3",
   "language": "python",
   "name": "python3"
  },
  "language_info": {
   "codemirror_mode": {
    "name": "ipython",
    "version": 3
   },
   "file_extension": ".py",
   "mimetype": "text/x-python",
   "name": "python",
   "nbconvert_exporter": "python",
   "pygments_lexer": "ipython3",
   "version": "3.7.7"
  }
 },
 "nbformat": 4,
 "nbformat_minor": 4
}
