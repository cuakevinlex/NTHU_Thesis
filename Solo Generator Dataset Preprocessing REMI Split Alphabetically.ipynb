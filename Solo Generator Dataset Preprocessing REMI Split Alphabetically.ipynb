{
 "cells": [
  {
   "cell_type": "code",
   "execution_count": 1,
   "id": "ee2ca29f",
   "metadata": {},
   "outputs": [],
   "source": [
    "import miditoolkit\n",
    "import remi_utils as utils\n",
    "from collections import Counter\n",
    "import pickle\n",
    "import glob\n",
    "import json\n",
    "from sklearn.model_selection import train_test_split\n",
    "import pandas as pd\n",
    "import numpy as np"
   ]
  },
  {
   "cell_type": "code",
   "execution_count": 2,
   "id": "517f8832",
   "metadata": {
    "scrolled": true
   },
   "outputs": [],
   "source": [
    "# create pickle file based on dataset\n",
    "\n",
    "def extract_events(input_path, chord=False):\n",
    "    note_items, tempo_items = utils.read_items(input_path)\n",
    "    note_items = utils.quantize_items(note_items)\n",
    "    max_time = note_items[-1].end\n",
    "    if chord:\n",
    "        chord_items = utils.extract_chords(note_items)\n",
    "        items = chord_items + tempo_items + note_items\n",
    "    else:\n",
    "        items = tempo_items + note_items\n",
    "    groups = utils.group_items(items, max_time)\n",
    "    events = utils.item2event(groups)\n",
    "    return events"
   ]
  },
  {
   "cell_type": "code",
   "execution_count": 3,
   "id": "94a9ddb2",
   "metadata": {},
   "outputs": [
    {
     "ename": "KeyboardInterrupt",
     "evalue": "",
     "output_type": "error",
     "traceback": [
      "\u001b[0;31m---------------------------------------------------------------------------\u001b[0m",
      "\u001b[0;31mTypeError\u001b[0m                                 Traceback (most recent call last)",
      "\u001b[0;32m~/miniconda3/lib/python3.8/site-packages/numpy/core/numerictypes.py\u001b[0m in \u001b[0;36missubclass_\u001b[0;34m(arg1, arg2)\u001b[0m\n\u001b[1;32m    320\u001b[0m     \u001b[0;32mtry\u001b[0m\u001b[0;34m:\u001b[0m\u001b[0;34m\u001b[0m\u001b[0;34m\u001b[0m\u001b[0m\n\u001b[0;32m--> 321\u001b[0;31m         \u001b[0;32mreturn\u001b[0m \u001b[0missubclass\u001b[0m\u001b[0;34m(\u001b[0m\u001b[0marg1\u001b[0m\u001b[0;34m,\u001b[0m \u001b[0marg2\u001b[0m\u001b[0;34m)\u001b[0m\u001b[0;34m\u001b[0m\u001b[0;34m\u001b[0m\u001b[0m\n\u001b[0m\u001b[1;32m    322\u001b[0m     \u001b[0;32mexcept\u001b[0m \u001b[0mTypeError\u001b[0m\u001b[0;34m:\u001b[0m\u001b[0;34m\u001b[0m\u001b[0;34m\u001b[0m\u001b[0m\n",
      "\u001b[0;31mTypeError\u001b[0m: issubclass() arg 1 must be a class",
      "\nDuring handling of the above exception, another exception occurred:\n",
      "\u001b[0;31mKeyboardInterrupt\u001b[0m                         Traceback (most recent call last)",
      "\u001b[0;32m/tmp/ipykernel_20408/817642293.py\u001b[0m in \u001b[0;36m<module>\u001b[0;34m\u001b[0m\n\u001b[1;32m     29\u001b[0m             \u001b[0melement\u001b[0m \u001b[0;34m=\u001b[0m \u001b[0;34m'{}_{}'\u001b[0m\u001b[0;34m.\u001b[0m\u001b[0mformat\u001b[0m\u001b[0;34m(\u001b[0m\u001b[0mevent\u001b[0m\u001b[0;34m.\u001b[0m\u001b[0mname\u001b[0m\u001b[0;34m,\u001b[0m \u001b[0mevent\u001b[0m\u001b[0;34m.\u001b[0m\u001b[0mvalue\u001b[0m\u001b[0;34m)\u001b[0m\u001b[0;34m\u001b[0m\u001b[0;34m\u001b[0m\u001b[0m\n\u001b[1;32m     30\u001b[0m             \u001b[0mall_elements\u001b[0m\u001b[0;34m.\u001b[0m\u001b[0mappend\u001b[0m\u001b[0;34m(\u001b[0m\u001b[0melement\u001b[0m\u001b[0;34m)\u001b[0m\u001b[0;34m\u001b[0m\u001b[0;34m\u001b[0m\u001b[0m\n\u001b[0;32m---> 31\u001b[0;31m         \u001b[0mevents\u001b[0m \u001b[0;34m=\u001b[0m \u001b[0mextract_events\u001b[0m\u001b[0;34m(\u001b[0m\u001b[0;34m\"./data_dynamic/piano/middle/\"\u001b[0m \u001b[0;34m+\u001b[0m \u001b[0mstr\u001b[0m\u001b[0;34m(\u001b[0m\u001b[0mi\u001b[0m\u001b[0;34m)\u001b[0m\u001b[0;34m.\u001b[0m\u001b[0mzfill\u001b[0m\u001b[0;34m(\u001b[0m\u001b[0;36m3\u001b[0m\u001b[0;34m)\u001b[0m \u001b[0;34m+\u001b[0m \u001b[0;34m\"_solo_\"\u001b[0m \u001b[0;34m+\u001b[0m \u001b[0mstr\u001b[0m\u001b[0;34m(\u001b[0m\u001b[0mj\u001b[0m\u001b[0;34m)\u001b[0m \u001b[0;34m+\u001b[0m \u001b[0;34m\".mid\"\u001b[0m\u001b[0;34m)\u001b[0m \u001b[0;31m# If you're analyzing chords, use `extract_events(midi_file, chord=True)`\u001b[0m\u001b[0;34m\u001b[0m\u001b[0;34m\u001b[0m\u001b[0m\n\u001b[0m\u001b[1;32m     32\u001b[0m         \u001b[0;32mfor\u001b[0m \u001b[0mevent\u001b[0m \u001b[0;32min\u001b[0m \u001b[0mevents\u001b[0m\u001b[0;34m:\u001b[0m\u001b[0;34m\u001b[0m\u001b[0;34m\u001b[0m\u001b[0m\n\u001b[1;32m     33\u001b[0m             \u001b[0melement\u001b[0m \u001b[0;34m=\u001b[0m \u001b[0;34m'{}_{}'\u001b[0m\u001b[0;34m.\u001b[0m\u001b[0mformat\u001b[0m\u001b[0;34m(\u001b[0m\u001b[0mevent\u001b[0m\u001b[0;34m.\u001b[0m\u001b[0mname\u001b[0m\u001b[0;34m,\u001b[0m \u001b[0mevent\u001b[0m\u001b[0;34m.\u001b[0m\u001b[0mvalue\u001b[0m\u001b[0;34m)\u001b[0m\u001b[0;34m\u001b[0m\u001b[0;34m\u001b[0m\u001b[0m\n",
      "\u001b[0;32m/tmp/ipykernel_20408/3901630724.py\u001b[0m in \u001b[0;36mextract_events\u001b[0;34m(input_path, chord)\u001b[0m\n\u001b[1;32m     11\u001b[0m         \u001b[0mitems\u001b[0m \u001b[0;34m=\u001b[0m \u001b[0mtempo_items\u001b[0m \u001b[0;34m+\u001b[0m \u001b[0mnote_items\u001b[0m\u001b[0;34m\u001b[0m\u001b[0;34m\u001b[0m\u001b[0m\n\u001b[1;32m     12\u001b[0m     \u001b[0mgroups\u001b[0m \u001b[0;34m=\u001b[0m \u001b[0mutils\u001b[0m\u001b[0;34m.\u001b[0m\u001b[0mgroup_items\u001b[0m\u001b[0;34m(\u001b[0m\u001b[0mitems\u001b[0m\u001b[0;34m,\u001b[0m \u001b[0mmax_time\u001b[0m\u001b[0;34m)\u001b[0m\u001b[0;34m\u001b[0m\u001b[0;34m\u001b[0m\u001b[0m\n\u001b[0;32m---> 13\u001b[0;31m     \u001b[0mevents\u001b[0m \u001b[0;34m=\u001b[0m \u001b[0mutils\u001b[0m\u001b[0;34m.\u001b[0m\u001b[0mitem2event\u001b[0m\u001b[0;34m(\u001b[0m\u001b[0mgroups\u001b[0m\u001b[0;34m)\u001b[0m\u001b[0;34m\u001b[0m\u001b[0;34m\u001b[0m\u001b[0m\n\u001b[0m\u001b[1;32m     14\u001b[0m     \u001b[0;32mreturn\u001b[0m \u001b[0mevents\u001b[0m\u001b[0;34m\u001b[0m\u001b[0;34m\u001b[0m\u001b[0m\n",
      "\u001b[0;32m~/Downloads/Kevin Thesis/remi_utils.py\u001b[0m in \u001b[0;36mitem2event\u001b[0;34m(groups)\u001b[0m\n\u001b[1;32m    142\u001b[0m         \u001b[0;32mfor\u001b[0m \u001b[0mitem\u001b[0m \u001b[0;32min\u001b[0m \u001b[0mgroups\u001b[0m\u001b[0;34m[\u001b[0m\u001b[0mi\u001b[0m\u001b[0;34m]\u001b[0m\u001b[0;34m[\u001b[0m\u001b[0;36m1\u001b[0m\u001b[0;34m:\u001b[0m\u001b[0;34m-\u001b[0m\u001b[0;36m1\u001b[0m\u001b[0;34m]\u001b[0m\u001b[0;34m:\u001b[0m\u001b[0;34m\u001b[0m\u001b[0;34m\u001b[0m\u001b[0m\n\u001b[1;32m    143\u001b[0m             \u001b[0;31m# position\u001b[0m\u001b[0;34m\u001b[0m\u001b[0;34m\u001b[0m\u001b[0;34m\u001b[0m\u001b[0m\n\u001b[0;32m--> 144\u001b[0;31m             \u001b[0mflags\u001b[0m \u001b[0;34m=\u001b[0m \u001b[0mnp\u001b[0m\u001b[0;34m.\u001b[0m\u001b[0mlinspace\u001b[0m\u001b[0;34m(\u001b[0m\u001b[0mbar_st\u001b[0m\u001b[0;34m,\u001b[0m \u001b[0mbar_et\u001b[0m\u001b[0;34m,\u001b[0m \u001b[0mDEFAULT_FRACTION\u001b[0m\u001b[0;34m,\u001b[0m \u001b[0mendpoint\u001b[0m\u001b[0;34m=\u001b[0m\u001b[0;32mFalse\u001b[0m\u001b[0;34m)\u001b[0m\u001b[0;34m\u001b[0m\u001b[0;34m\u001b[0m\u001b[0m\n\u001b[0m\u001b[1;32m    145\u001b[0m             \u001b[0mindex\u001b[0m \u001b[0;34m=\u001b[0m \u001b[0mnp\u001b[0m\u001b[0;34m.\u001b[0m\u001b[0margmin\u001b[0m\u001b[0;34m(\u001b[0m\u001b[0mabs\u001b[0m\u001b[0;34m(\u001b[0m\u001b[0mflags\u001b[0m\u001b[0;34m-\u001b[0m\u001b[0mitem\u001b[0m\u001b[0;34m.\u001b[0m\u001b[0mstart\u001b[0m\u001b[0;34m)\u001b[0m\u001b[0;34m)\u001b[0m\u001b[0;34m\u001b[0m\u001b[0;34m\u001b[0m\u001b[0m\n\u001b[1;32m    146\u001b[0m             events.append(Event(\n",
      "\u001b[0;32m<__array_function__ internals>\u001b[0m in \u001b[0;36mlinspace\u001b[0;34m(*args, **kwargs)\u001b[0m\n",
      "\u001b[0;32m~/miniconda3/lib/python3.8/site-packages/numpy/core/function_base.py\u001b[0m in \u001b[0;36mlinspace\u001b[0;34m(start, stop, num, endpoint, retstep, dtype, axis)\u001b[0m\n\u001b[1;32m    167\u001b[0m         \u001b[0my\u001b[0m \u001b[0;34m=\u001b[0m \u001b[0m_nx\u001b[0m\u001b[0;34m.\u001b[0m\u001b[0mmoveaxis\u001b[0m\u001b[0;34m(\u001b[0m\u001b[0my\u001b[0m\u001b[0;34m,\u001b[0m \u001b[0;36m0\u001b[0m\u001b[0;34m,\u001b[0m \u001b[0maxis\u001b[0m\u001b[0;34m)\u001b[0m\u001b[0;34m\u001b[0m\u001b[0;34m\u001b[0m\u001b[0m\n\u001b[1;32m    168\u001b[0m \u001b[0;34m\u001b[0m\u001b[0m\n\u001b[0;32m--> 169\u001b[0;31m     \u001b[0;32mif\u001b[0m \u001b[0m_nx\u001b[0m\u001b[0;34m.\u001b[0m\u001b[0missubdtype\u001b[0m\u001b[0;34m(\u001b[0m\u001b[0mdtype\u001b[0m\u001b[0;34m,\u001b[0m \u001b[0m_nx\u001b[0m\u001b[0;34m.\u001b[0m\u001b[0minteger\u001b[0m\u001b[0;34m)\u001b[0m\u001b[0;34m:\u001b[0m\u001b[0;34m\u001b[0m\u001b[0;34m\u001b[0m\u001b[0m\n\u001b[0m\u001b[1;32m    170\u001b[0m         \u001b[0m_nx\u001b[0m\u001b[0;34m.\u001b[0m\u001b[0mfloor\u001b[0m\u001b[0;34m(\u001b[0m\u001b[0my\u001b[0m\u001b[0;34m,\u001b[0m \u001b[0mout\u001b[0m\u001b[0;34m=\u001b[0m\u001b[0my\u001b[0m\u001b[0;34m)\u001b[0m\u001b[0;34m\u001b[0m\u001b[0;34m\u001b[0m\u001b[0m\n\u001b[1;32m    171\u001b[0m \u001b[0;34m\u001b[0m\u001b[0m\n",
      "\u001b[0;32m~/miniconda3/lib/python3.8/site-packages/numpy/core/numerictypes.py\u001b[0m in \u001b[0;36missubdtype\u001b[0;34m(arg1, arg2)\u001b[0m\n\u001b[1;32m    415\u001b[0m \u001b[0;34m\u001b[0m\u001b[0m\n\u001b[1;32m    416\u001b[0m     \"\"\"\n\u001b[0;32m--> 417\u001b[0;31m     \u001b[0;32mif\u001b[0m \u001b[0;32mnot\u001b[0m \u001b[0missubclass_\u001b[0m\u001b[0;34m(\u001b[0m\u001b[0marg1\u001b[0m\u001b[0;34m,\u001b[0m \u001b[0mgeneric\u001b[0m\u001b[0;34m)\u001b[0m\u001b[0;34m:\u001b[0m\u001b[0;34m\u001b[0m\u001b[0;34m\u001b[0m\u001b[0m\n\u001b[0m\u001b[1;32m    418\u001b[0m         \u001b[0marg1\u001b[0m \u001b[0;34m=\u001b[0m \u001b[0mdtype\u001b[0m\u001b[0;34m(\u001b[0m\u001b[0marg1\u001b[0m\u001b[0;34m)\u001b[0m\u001b[0;34m.\u001b[0m\u001b[0mtype\u001b[0m\u001b[0;34m\u001b[0m\u001b[0;34m\u001b[0m\u001b[0m\n\u001b[1;32m    419\u001b[0m     \u001b[0;32mif\u001b[0m \u001b[0;32mnot\u001b[0m \u001b[0missubclass_\u001b[0m\u001b[0;34m(\u001b[0m\u001b[0marg2\u001b[0m\u001b[0;34m,\u001b[0m \u001b[0mgeneric\u001b[0m\u001b[0;34m)\u001b[0m\u001b[0;34m:\u001b[0m\u001b[0;34m\u001b[0m\u001b[0;34m\u001b[0m\u001b[0m\n",
      "\u001b[0;32m~/miniconda3/lib/python3.8/site-packages/numpy/core/numerictypes.py\u001b[0m in \u001b[0;36missubclass_\u001b[0;34m(arg1, arg2)\u001b[0m\n\u001b[1;32m    319\u001b[0m     \"\"\"\n\u001b[1;32m    320\u001b[0m     \u001b[0;32mtry\u001b[0m\u001b[0;34m:\u001b[0m\u001b[0;34m\u001b[0m\u001b[0;34m\u001b[0m\u001b[0m\n\u001b[0;32m--> 321\u001b[0;31m         \u001b[0;32mreturn\u001b[0m \u001b[0missubclass\u001b[0m\u001b[0;34m(\u001b[0m\u001b[0marg1\u001b[0m\u001b[0;34m,\u001b[0m \u001b[0marg2\u001b[0m\u001b[0;34m)\u001b[0m\u001b[0;34m\u001b[0m\u001b[0;34m\u001b[0m\u001b[0m\n\u001b[0m\u001b[1;32m    322\u001b[0m     \u001b[0;32mexcept\u001b[0m \u001b[0mTypeError\u001b[0m\u001b[0;34m:\u001b[0m\u001b[0;34m\u001b[0m\u001b[0;34m\u001b[0m\u001b[0m\n\u001b[1;32m    323\u001b[0m         \u001b[0;32mreturn\u001b[0m \u001b[0;32mFalse\u001b[0m\u001b[0;34m\u001b[0m\u001b[0;34m\u001b[0m\u001b[0m\n",
      "\u001b[0;31mKeyboardInterrupt\u001b[0m: "
     ]
    }
   ],
   "source": [
    "all_elements= []\n",
    "with open('solos.json') as json_file: \n",
    "    data = json.load(json_file) \n",
    "for i in range(1,910):\n",
    "    filename = str(i).zfill(3)\n",
    "    if filename not in data:\n",
    "        continue\n",
    "    for j in range(len(data[filename])):\n",
    "        events = extract_events(\"./data_dynamic/melody/intro/\" + str(i).zfill(3) + \"_solo_\" + str(j) + \".mid\") # If you're analyzing chords, use `extract_events(midi_file, chord=True)`\n",
    "        for event in events:\n",
    "            element = '{}_{}'.format(event.name, event.value)\n",
    "            all_elements.append(element)\n",
    "        events = extract_events(\"./data_dynamic/melody/middle/\" + str(i).zfill(3) + \"_solo_\" + str(j) + \".mid\") # If you're analyzing chords, use `extract_events(midi_file, chord=True)`\n",
    "        for event in events:\n",
    "            element = '{}_{}'.format(event.name, event.value)\n",
    "            all_elements.append(element)\n",
    "        events = extract_events(\"./data_dynamic/melody/outro/\" + str(i).zfill(3) + \"_solo_\" + str(j) + \".mid\") # If you're analyzing chords, use `extract_events(midi_file, chord=True)`\n",
    "        for event in events:\n",
    "            element = '{}_{}'.format(event.name, event.value)\n",
    "            all_elements.append(element)\n",
    "\n",
    "for i in range(1,910):\n",
    "    filename = str(i).zfill(3)\n",
    "    if filename not in data:\n",
    "        continue\n",
    "    for j in range(len(data[filename])):\n",
    "        events = extract_events(\"./data_dynamic/piano/intro/\" + str(i).zfill(3) + \"_solo_\" + str(j) + \".mid\") # If you're analyzing chords, use `extract_events(midi_file, chord=True)`\n",
    "        for event in events:\n",
    "            element = '{}_{}'.format(event.name, event.value)\n",
    "            all_elements.append(element)\n",
    "        events = extract_events(\"./data_dynamic/piano/middle/\" + str(i).zfill(3) + \"_solo_\" + str(j) + \".mid\") # If you're analyzing chords, use `extract_events(midi_file, chord=True)`\n",
    "        for event in events:\n",
    "            element = '{}_{}'.format(event.name, event.value)\n",
    "            all_elements.append(element)\n",
    "        events = extract_events(\"./data_dynamic/piano/outro/\" + str(i).zfill(3) + \"_solo_\" + str(j) + \".mid\") # If you're analyzing chords, use `extract_events(midi_file, chord=True)`\n",
    "        for event in events:\n",
    "            element = '{}_{}'.format(event.name, event.value)\n",
    "            all_elements.append(element)       \n",
    "\n",
    "counts = Counter(all_elements)\n",
    "event2word = {c: i for i, c in enumerate(counts.keys())}\n",
    "word2event = {i: c for i, c in enumerate(counts.keys())}\n",
    "pickle.dump((event2word, word2event), open('dictionary_dynamic.pkl', 'wb'))"
   ]
  },
  {
   "cell_type": "code",
   "execution_count": 18,
   "id": "3b8f5267",
   "metadata": {},
   "outputs": [],
   "source": [
    "event2word, word2event = pickle.load(open('dictionary_dynamic.pkl', 'rb'))"
   ]
  },
  {
   "cell_type": "code",
   "execution_count": 19,
   "id": "98f87116",
   "metadata": {},
   "outputs": [],
   "source": [
    "count = 0\n",
    "intros = []\n",
    "outros = []\n",
    "solos = []\n",
    "with open('solos.json') as json_file: \n",
    "    data = json.load(json_file) \n",
    "for i in range(1,910):\n",
    "    filename = str(i).zfill(3)\n",
    "    if filename not in data:\n",
    "        continue\n",
    "    for j in range(len(data[filename])):\n",
    "        count += 1\n",
    "        # extract intro\n",
    "        intro = extract_events(\"./data_dynamic/melody/intro/\" + str(i).zfill(3) + \"_solo_\" + str(j) + \".mid\")\n",
    "        w_intro = utils.event_to_word(intro, event2word)\n",
    "        intros.append(w_intro)\n",
    "        # extract outro\n",
    "        outro = extract_events(\"./data_dynamic/melody/outro/\" + str(i).zfill(3) + \"_solo_\" + str(j) + \".mid\")\n",
    "        w_outro = utils.event_to_word(outro, event2word)\n",
    "        outros.append(w_outro)\n",
    "        # extract solo\n",
    "        solo = extract_events(\"./data_dynamic/melody/middle/\" + str(i).zfill(3) + \"_solo_\" + str(j) + \".mid\")\n",
    "        w_solo = utils.event_to_word(solo, event2word)\n",
    "        solos.append(w_solo)\n",
    "        "
   ]
  },
  {
   "cell_type": "code",
   "execution_count": 20,
   "id": "1ef8b9f4",
   "metadata": {},
   "outputs": [
    {
     "data": {
      "text/plain": [
       "750"
      ]
     },
     "execution_count": 20,
     "metadata": {},
     "output_type": "execute_result"
    }
   ],
   "source": [
    "len(intros)"
   ]
  },
  {
   "cell_type": "code",
   "execution_count": 21,
   "id": "8a054de2",
   "metadata": {},
   "outputs": [],
   "source": [
    "count = 0\n",
    "intros_piano = []\n",
    "outros_piano = []\n",
    "solos_piano = []\n",
    "with open('solos.json') as json_file: \n",
    "    data = json.load(json_file) \n",
    "for i in range(1,910):\n",
    "    filename = str(i).zfill(3)\n",
    "    if filename not in data:\n",
    "        continue\n",
    "    for j in range(len(data[filename])):\n",
    "        count += 1\n",
    "        # extract intro\n",
    "        intro = extract_events(\"./data_dynamic/piano/intro/\" + str(i).zfill(3) + \"_solo_\" + str(j) + \".mid\")\n",
    "        w_intro = utils.event_to_word(intro, event2word)\n",
    "        intros_piano.append(w_intro)\n",
    "        # extract outro\n",
    "        outro = extract_events(\"./data_dynamic/piano/outro/\" + str(i).zfill(3) + \"_solo_\" + str(j) + \".mid\")\n",
    "        w_outro = utils.event_to_word(outro, event2word)\n",
    "        outros_piano.append(w_outro)\n",
    "        # extract solo\n",
    "        solo = extract_events(\"./data_dynamic/piano/middle/\" + str(i).zfill(3) + \"_solo_\" + str(j) + \".mid\")\n",
    "        w_solo = utils.event_to_word(solo, event2word)\n",
    "        solos_piano.append(w_solo)\n",
    "        "
   ]
  },
  {
   "cell_type": "code",
   "execution_count": 22,
   "id": "52e52f12",
   "metadata": {},
   "outputs": [],
   "source": [
    "data = [intros, intros_piano, outros, outros_piano, solos, solos_piano]\n",
    "pickle.dump(data, open('./solo_generation_dataset_dynamic/solo_generation_dataset.pkl', 'wb'))"
   ]
  },
  {
   "cell_type": "code",
   "execution_count": 5,
   "id": "54250ef3",
   "metadata": {},
   "outputs": [],
   "source": [
    "data = pickle.load(open('./solo_generation_dataset_dynamic/solo_generation_dataset.pkl', 'rb'))"
   ]
  },
  {
   "cell_type": "code",
   "execution_count": 6,
   "id": "8ca4494b",
   "metadata": {},
   "outputs": [],
   "source": [
    "def find_max_length(series):\n",
    "    max_length=0\n",
    "    for i in range(len(series)):\n",
    "        if max_length < len(series[i]):\n",
    "            max_length = len(series[i])\n",
    "    return max_length\n",
    "\n",
    "def pad_dataset(dataset, word2event):\n",
    "    pad_value = len(word2event)\n",
    "    max_length = 0\n",
    "    for i in range(len(dataset)):\n",
    "        if max_length < find_max_length(dataset[i]):\n",
    "            max_length = find_max_length(dataset[i])\n",
    "    print(max_length)\n",
    "    for i in range(len(dataset)):\n",
    "        for j in range(len(dataset[i])):\n",
    "            while len(dataset[i][j]) < max_length:\n",
    "                dataset[i][j].append(pad_value)\n",
    "    return dataset"
   ]
  },
  {
   "cell_type": "code",
   "execution_count": 7,
   "id": "c572bb26",
   "metadata": {
    "scrolled": false
   },
   "outputs": [
    {
     "name": "stdout",
     "output_type": "stream",
     "text": [
      "1637\n"
     ]
    }
   ],
   "source": [
    "data_padded = pad_dataset(data,word2event)"
   ]
  },
  {
   "cell_type": "code",
   "execution_count": 240,
   "id": "83c2666a",
   "metadata": {},
   "outputs": [],
   "source": [
    "pickle.dump(data_padded, open('./solo_generation_dataset_dynamic/solo_generation_dataset_padded.pkl', 'wb'))\n",
    "data_padded = pickle.load(open('./solo_generation_dataset_dynamic/solo_generation_dataset_padded.pkl', 'rb'))\n",
    "# data = data_padded"
   ]
  },
  {
   "cell_type": "code",
   "execution_count": 23,
   "id": "fd89f6f7",
   "metadata": {},
   "outputs": [],
   "source": [
    "data_text = data\n",
    "for i in range(len(data)):\n",
    "    for j in range(len(data[i])):\n",
    "        string_array = [str(num) for num in data[i][j]]\n",
    "        data_text[i][j] = ' '.join(string_array)"
   ]
  },
  {
   "cell_type": "code",
   "execution_count": 24,
   "id": "0af70b59",
   "metadata": {},
   "outputs": [],
   "source": [
    "intros_t, intros_piano_t, outros_t, outros_piano_t, solos_t, solos_piano_t = data_text"
   ]
  },
  {
   "cell_type": "code",
   "execution_count": 25,
   "id": "807e602e",
   "metadata": {},
   "outputs": [
    {
     "name": "stdout",
     "output_type": "stream",
     "text": [
      "112\n"
     ]
    }
   ],
   "source": [
    "seventy = int(len(intros_t)*.15)\n",
    "print(seventy)"
   ]
  },
  {
   "cell_type": "code",
   "execution_count": 26,
   "id": "4c6ecdcf",
   "metadata": {},
   "outputs": [],
   "source": [
    "intros_train, intros_t_subset, intros_piano_train, intros_piano_t_subset, outros_train, outros_t_subset, outros_piano_train, outros_piano_t_subset, solos_train, solos_t_subset, solos_piano_train, solos_piano_t_subset = intros_t[:750-224], intros_t[-224:], intros_piano_t[:750-224], intros_piano_t[-224:], outros_t[:750-224], outros_t[-224:], outros_piano_t[:750-224], outros_piano_t[-224:], solos_t[:750-224], solos_t[-224:], solos_piano_t[:750-224], solos_piano_t[-224:]"
   ]
  },
  {
   "cell_type": "code",
   "execution_count": 27,
   "id": "4b6d3688",
   "metadata": {},
   "outputs": [],
   "source": [
    "half = len(intros_t_subset)//2\n",
    "intros_test, intros_valid, intros_piano_test, intros_piano_valid, outros_test, outros_valid, outros_piano_test, outros_piano_valid, solos_test, solos_valid, solos_piano_test, solos_piano_valid = intros_t_subset[half:], intros_t_subset[:half], intros_piano_t_subset[half:], intros_piano_t_subset[:half], outros_t_subset[half:],outros_t_subset[:half], outros_piano_t_subset[half:], outros_piano_t_subset[:half], solos_t_subset[half:], solos_t_subset[:half], solos_piano_t_subset[half:],solos_piano_t_subset[:half]"
   ]
  },
  {
   "cell_type": "code",
   "execution_count": 28,
   "id": "07761dce",
   "metadata": {},
   "outputs": [],
   "source": [
    "train = []\n",
    "val = []\n",
    "test = []\n",
    "\n",
    "for i in range(len(intros_train)):\n",
    "    train.append([intros_train[i],intros_piano_train[i], outros_train[i],outros_piano_train[i],solos_train[i], solos_piano_train[i]])\n",
    "    \n",
    "for i in range(len(intros_valid)):\n",
    "    val.append([intros_valid[i],intros_piano_valid[i], outros_valid[i],outros_piano_valid[i],solos_valid[i], solos_piano_valid[i]])\n",
    "    \n",
    "for i in range(len(intros_test)):\n",
    "    test.append([intros_test[i],intros_piano_test[i], outros_test[i],outros_piano_test[i],solos_test[i], solos_piano_test[i]])\n",
    "    "
   ]
  },
  {
   "cell_type": "code",
   "execution_count": 29,
   "id": "a39a460e",
   "metadata": {},
   "outputs": [],
   "source": [
    "df_train = pd.DataFrame(train,columns=['intro', 'intro_piano', 'outro', 'outro_piano','solo', 'solo_piano'])\n",
    "df_val = pd.DataFrame(test,columns=['intro', 'intro_piano', 'outro', 'outro_piano','solo', 'solo_piano'])\n",
    "df_test = pd.DataFrame(val,columns=['intro', 'intro_piano', 'outro', 'outro_piano','solo', 'solo_piano'])"
   ]
  },
  {
   "cell_type": "code",
   "execution_count": 30,
   "id": "195a318a",
   "metadata": {},
   "outputs": [],
   "source": [
    "destination_folder=\"solo_generation_dataset_dynamic_alphabetical_split\"\n",
    "df_train.to_csv(destination_folder + '/train_torchtext.csv', index=False)\n",
    "df_val.to_csv(destination_folder + '/val_torchtext.csv', index=False)\n",
    "df_test.to_csv(destination_folder + '/test_torchtext.csv', index=False)"
   ]
  },
  {
   "cell_type": "code",
   "execution_count": 218,
   "id": "13a39866",
   "metadata": {},
   "outputs": [],
   "source": [
    "def remove_padding(series, word2event):\n",
    "    return [value for value in series if value != len(word2event)]"
   ]
  },
  {
   "cell_type": "code",
   "execution_count": 211,
   "id": "b96b61ee",
   "metadata": {
    "scrolled": true
   },
   "outputs": [],
   "source": [
    "lst_int = [int(x) for x in df_train.values[0][0].split(' ')]\n",
    "utils.write_midi(remove_padding(lst_int, word2event), word2event, 'test.midi')"
   ]
  }
 ],
 "metadata": {
  "kernelspec": {
   "display_name": "Python 3 (ipykernel)",
   "language": "python",
   "name": "python3"
  },
  "language_info": {
   "codemirror_mode": {
    "name": "ipython",
    "version": 3
   },
   "file_extension": ".py",
   "mimetype": "text/x-python",
   "name": "python",
   "nbconvert_exporter": "python",
   "pygments_lexer": "ipython3",
   "version": "3.8.5"
  }
 },
 "nbformat": 4,
 "nbformat_minor": 5
}
