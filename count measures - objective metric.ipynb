{
 "cells": [
  {
   "cell_type": "code",
   "execution_count": 1,
   "metadata": {},
   "outputs": [],
   "source": [
    "import miditoolkit\n",
    "import remi_utils as utils\n",
    "from collections import Counter\n",
    "import pickle\n",
    "import glob\n",
    "import json\n",
    "from sklearn.model_selection import train_test_split\n",
    "import pandas as pd\n",
    "import numpy as np"
   ]
  },
  {
   "cell_type": "code",
   "execution_count": 2,
   "metadata": {},
   "outputs": [],
   "source": [
    "# create pickle file based on dataset\n",
    "\n",
    "def extract_events(input_path, chord=False):\n",
    "    note_items, tempo_items = utils.read_items(input_path)\n",
    "    note_items = utils.quantize_items(note_items)\n",
    "    max_time = note_items[-1].end\n",
    "    if chord:\n",
    "        chord_items = utils.extract_chords(note_items)\n",
    "        items = chord_items + tempo_items + note_items\n",
    "    else:\n",
    "        items = tempo_items + note_items\n",
    "    groups = utils.group_items(items, max_time)\n",
    "    events = utils.item2event(groups)\n",
    "    return events"
   ]
  },
  {
   "cell_type": "code",
   "execution_count": null,
   "metadata": {},
   "outputs": [],
   "source": []
  },
  {
   "cell_type": "code",
   "execution_count": 3,
   "metadata": {},
   "outputs": [],
   "source": [
    "def Average(lst):\n",
    "    return sum(lst) / len(lst)\n"
   ]
  },
  {
   "cell_type": "code",
   "execution_count": 4,
   "metadata": {},
   "outputs": [],
   "source": [
    "def AverageMeasureDifference(dict_path, pred_path, solo_path):\n",
    "\n",
    "    event2word, word2event = pickle.load(open(dict_path, 'rb'))\n",
    "\n",
    "    count = 0\n",
    "    solos = []\n",
    "    predicts = []\n",
    "    for i in range(112):\n",
    "        count += 1\n",
    "        # extract predict\n",
    "        predict = extract_events(pred_path + \"predict\" + str(i) + \".mid\")\n",
    "        w_predict = utils.event_to_word(predict, event2word)\n",
    "        predicts.append(w_predict)\n",
    "        # extract solo\n",
    "        solo = extract_events(solo_path + \"solo\" + str(i)+ \".mid\")\n",
    "        w_solo = utils.event_to_word(solo, event2word)\n",
    "        solos.append(w_solo)\n",
    "\n",
    "    diff = []\n",
    "    for i in range(112):\n",
    "        diff.append(abs(predicts[i].count(0) - solos[i].count(0)))\n",
    "\n",
    "    return Average(diff)"
   ]
  },
  {
   "cell_type": "code",
   "execution_count": 5,
   "metadata": {},
   "outputs": [
    {
     "name": "stdout",
     "output_type": "stream",
     "text": [
      "2.7857142857142856\n",
      "2.482142857142857\n",
      "2.9732142857142856\n",
      "3.4017857142857144\n"
     ]
    }
   ],
   "source": [
    "dynamic = AverageMeasureDifference('dictionary_dynamic.pkl', \"./dynamic_alphabetical_models/2enc/generated_samples/predict/\", \"./dynamic_alphabetical_models/2enc/generated_samples/solo/\")\n",
    "dynamic_aug = AverageMeasureDifference('dictionary_augmented.pkl', \"./dynamic_augmented_models/2enc/generated_samples/predict/\", \"./dynamic_augmented_models/2enc/generated_samples/solo/\")\n",
    "fixed = AverageMeasureDifference('dictionary_fixed.pkl', \"./fixed_models/2enc/generated_samples/predict/\", \"./fixed_models/2enc/generated_samples/solo/\")\n",
    "fixed_aug = AverageMeasureDifference('dictionary_fixed_augmented.pkl', \"./fixed_augmented_models/2enc/generated_samples/predict/\", \"./fixed_augmented_models/2enc/generated_samples/solo/\")\n",
    "\n",
    "print(dynamic)\n",
    "print(dynamic_aug)\n",
    "print(fixed)\n",
    "print(fixed_aug)"
   ]
  },
  {
   "cell_type": "code",
   "execution_count": 6,
   "metadata": {},
   "outputs": [
    {
     "name": "stdout",
     "output_type": "stream",
     "text": [
      "3.5\n",
      "2.267857142857143\n",
      "3.5535714285714284\n",
      "2.5\n"
     ]
    }
   ],
   "source": [
    "dynamic = AverageMeasureDifference('dictionary_dynamic.pkl', \"./dynamic_alphabetical_models/intro/generated_samples/predict/\", \"./dynamic_alphabetical_models/intro/generated_samples/solo/\")\n",
    "dynamic_aug = AverageMeasureDifference('dictionary_augmented.pkl', \"./dynamic_augmented_models/intro/generated_samples/predict/\", \"./dynamic_augmented_models/intro/generated_samples/solo/\")\n",
    "fixed = AverageMeasureDifference('dictionary_fixed.pkl', \"./fixed_models/intro/generated_samples/predict/\", \"./fixed_models/intro/generated_samples/solo/\")\n",
    "fixed_aug = AverageMeasureDifference('dictionary_fixed_augmented.pkl', \"./fixed_augmented_models/intro/generated_samples/predict/\", \"./fixed_augmented_models/intro/generated_samples/solo/\")\n",
    "\n",
    "print(dynamic)\n",
    "print(dynamic_aug)\n",
    "print(fixed)\n",
    "print(fixed_aug)"
   ]
  },
  {
   "cell_type": "code",
   "execution_count": 7,
   "metadata": {},
   "outputs": [
    {
     "name": "stdout",
     "output_type": "stream",
     "text": [
      "2.6875\n",
      "2.205357142857143\n",
      "2.9107142857142856\n",
      "2.9642857142857144\n"
     ]
    }
   ],
   "source": [
    "dynamic = AverageMeasureDifference('dictionary_dynamic.pkl', \"./dynamic_alphabetical_models/outro_2nd/generated_samples/predict/\", \"./dynamic_alphabetical_models/outro/generated_samples/solo/\")\n",
    "dynamic_aug = AverageMeasureDifference('dictionary_augmented.pkl', \"./dynamic_augmented_models/outro/generated_samples/predict/\", \"./dynamic_augmented_models/outro/generated_samples/solo/\")\n",
    "fixed = AverageMeasureDifference('dictionary_fixed.pkl', \"./fixed_models/outro/generated_samples/predict/\", \"./fixed_models/outro/generated_samples/solo/\")\n",
    "fixed_aug = AverageMeasureDifference('dictionary_fixed_augmented.pkl', \"./fixed_augmented_models/outro/generated_samples/predict/\", \"./fixed_augmented_models/outro/generated_samples/solo/\")\n",
    "\n",
    "print(dynamic)\n",
    "print(dynamic_aug)\n",
    "print(fixed)\n",
    "print(fixed_aug)"
   ]
  },
  {
   "cell_type": "code",
   "execution_count": null,
   "metadata": {},
   "outputs": [],
   "source": []
  },
  {
   "cell_type": "code",
   "execution_count": null,
   "metadata": {},
   "outputs": [],
   "source": []
  }
 ],
 "metadata": {
  "kernelspec": {
   "display_name": "Python 3",
   "language": "python",
   "name": "python3"
  },
  "language_info": {
   "codemirror_mode": {
    "name": "ipython",
    "version": 3
   },
   "file_extension": ".py",
   "mimetype": "text/x-python",
   "name": "python",
   "nbconvert_exporter": "python",
   "pygments_lexer": "ipython3",
   "version": "3.7.7"
  }
 },
 "nbformat": 4,
 "nbformat_minor": 4
}
