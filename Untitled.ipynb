{
 "cells": [
  {
   "cell_type": "code",
   "execution_count": 1,
   "id": "fdaaac9f",
   "metadata": {},
   "outputs": [],
   "source": [
    "import pickle\n",
    "folder = \"dynamic_mag_models/2enc_2nd\""
   ]
  },
  {
   "cell_type": "code",
   "execution_count": 6,
   "id": "28dedf52",
   "metadata": {},
   "outputs": [],
   "source": [
    "with open(folder + \"/train_loss_log.pkl\", 'rb') as f:\n",
    "    x = pickle.load(f)\n",
    "with open(folder + \"/valid_loss_log.pkl\", 'rb') as f:\n",
    "    y = pickle.load(f)"
   ]
  },
  {
   "cell_type": "code",
   "execution_count": 7,
   "id": "ea509387",
   "metadata": {},
   "outputs": [
    {
     "data": {
      "text/plain": [
       "2000"
      ]
     },
     "execution_count": 7,
     "metadata": {},
     "output_type": "execute_result"
    }
   ],
   "source": [
    "len(x)"
   ]
  },
  {
   "cell_type": "code",
   "execution_count": null,
   "id": "ebcf24ad",
   "metadata": {},
   "outputs": [],
   "source": []
  }
 ],
 "metadata": {
  "kernelspec": {
   "display_name": "Python 3 (ipykernel)",
   "language": "python",
   "name": "python3"
  },
  "language_info": {
   "codemirror_mode": {
    "name": "ipython",
    "version": 3
   },
   "file_extension": ".py",
   "mimetype": "text/x-python",
   "name": "python",
   "nbconvert_exporter": "python",
   "pygments_lexer": "ipython3",
   "version": "3.8.5"
  }
 },
 "nbformat": 4,
 "nbformat_minor": 5
}
